{
 "cells": [
  {
   "cell_type": "markdown",
   "metadata": {},
   "source": [
    "## Aligning Open-ST metastatic lymph node\n",
    "\n",
    "In this notebook, we will illustrate how to perform the alignment of 19 serial sections from a [human metastatic lymph node profiled with Open-ST](https://doi.org/10.1016/j.cell.2024.05.055).\n",
    "\n",
    "### Dataset description\n",
    "We profiled patient-matched samples from human head and neck squamous cell carcinoma (HNSCC), due to the interesting transcriptional diversity and spatial organization. For the human metastatic lymph node, we applied Open-ST to serial sections spanning 350 μm. We constructed a 3D virtual tissue block with over a million cells and hundreds of millions of transcripts embedded in the H&E stainings. "
   ]
  },
  {
   "cell_type": "markdown",
   "metadata": {},
   "source": [
    "### Prerequisites\n",
    "\n",
    "First of all, you must have a Python environment with [ipykernel](https://ipython.readthedocs.io/en/stable/install/kernel_install.html) for running this notebook, or [Jupyter](https://jupyter.org/).\n",
    "\n",
    "Alternatively, you can run this notebook in [Google Colab]()."
   ]
  },
  {
   "cell_type": "markdown",
   "metadata": {},
   "source": [
    "### Installing dependencies\n",
    "\n",
    "We will install STIM (both the Java-based components, and the Python bindings)"
   ]
  },
  {
   "cell_type": "code",
   "execution_count": null,
   "metadata": {},
   "outputs": [],
   "source": [
    "MAX_SECTION = 19"
   ]
  },
  {
   "cell_type": "code",
   "execution_count": null,
   "metadata": {},
   "outputs": [],
   "source": [
    "if 'google.colab' in str(get_ipython()):\n",
    "  !apt-get install openjdk-8-jdk maven\n",
    "  !git clone https://github.com/danilexn/stim.git\n",
    "  !cd stim && ./install.sh -i ./bin\n",
    "  !pip install stimwrap\n",
    "  MAX_SECTION = 3  # in colab, we process only 3 (for illustrative purposes)\n",
    "else:\n",
    "  !conda install -c conda-forge stim\n",
    "  !pip install stimwrap"
   ]
  },
  {
   "cell_type": "markdown",
   "metadata": {},
   "source": [
    "### Downloading the data\n",
    "\n",
    "We will download the `AnnData` objects for each of the 19 sections. \n",
    "\n",
    "The spatial coordinates in these objects are the centroids of segmented cells (nuclei detected from the H&E stainings, see the paper for more details).\n",
    "\n",
    "These coordinates are unaligned in these individual h5 objects.\n",
    "\n",
    "We install a tool to download data from GEO, and setup some utils classes. \n",
    "\n",
    "You can do this with any other tool; below is very simple code that gets the job done."
   ]
  },
  {
   "cell_type": "code",
   "execution_count": null,
   "metadata": {},
   "outputs": [],
   "source": [
    "!pip install GEOparse"
   ]
  },
  {
   "cell_type": "code",
   "execution_count": 1,
   "metadata": {},
   "outputs": [],
   "source": [
    "from tqdm import tqdm\n",
    "import os\n",
    "import urllib.request\n",
    "import gzip\n",
    "import shutil\n",
    "\n",
    "class TqdmUpTo(tqdm):\n",
    "    def update_to(self, b=1, bsize=1, tsize=None):\n",
    "        if tsize is not None:\n",
    "            self.total = tsize\n",
    "        self.update(b * bsize - self.n)\n",
    "\n",
    "def download_ftp(url: str, basepath: str = './'):\n",
    "    basename = url.split('/')[-1]\n",
    "    cached_file = os.path.join(basepath, basename)\n",
    "    extract_name = \".\".join(cached_file.split(\".\")[:-1])\n",
    "\n",
    "    if not os.path.exists(cached_file) and not os.path.exists(extract_name):\n",
    "        with TqdmUpTo(unit = 'B', unit_scale = True, unit_divisor = 1024, miniters = 1, desc = cached_file) as t:\n",
    "            urllib.request.urlretrieve(\"http://\" + \"/\".join(url.split(\"/\")[2:]), cached_file, reporthook = t.update_to)\n",
    "    \n",
    "    print(f\"Extracting {cached_file} into {extract_name}\")\n",
    "    with gzip.open(cached_file, 'rb') as f_in:\n",
    "        with open(extract_name, 'wb') as f_out:\n",
    "            shutil.copyfileobj(f_in, f_out)\n",
    "\n",
    "    return extract_name"
   ]
  },
  {
   "cell_type": "markdown",
   "metadata": {},
   "source": [
    "Then, we download the data from GEO into the current folder"
   ]
  },
  {
   "cell_type": "code",
   "execution_count": 2,
   "metadata": {},
   "outputs": [],
   "source": [
    "import GEOparse\n",
    "\n",
    "gse = GEOparse.get_GEO(geo=\"GSE251926\", destdir=\"./\", how='brief', silent=True)"
   ]
  },
  {
   "cell_type": "code",
   "execution_count": 3,
   "metadata": {},
   "outputs": [
    {
     "name": "stdout",
     "output_type": "stream",
     "text": [
      "Downloading GSM7990100 from ftp://ftp.ncbi.nlm.nih.gov/geo/samples/GSM7990nnn/GSM7990100/suppl/GSM7990100_metastatic_lymph_node_S2.h5ad.gz\n"
     ]
    },
    {
     "name": "stderr",
     "output_type": "stream",
     "text": [
      "./GSM7990100_metastatic_lymph_node_S2.h5ad.gz: 626MB [00:27, 23.8MB/s]                               \n"
     ]
    },
    {
     "name": "stdout",
     "output_type": "stream",
     "text": [
      "Extracting ./GSM7990100_metastatic_lymph_node_S2.h5ad.gz into ./GSM7990100_metastatic_lymph_node_S2.h5ad\n",
      "Downloading GSM7990101 from ftp://ftp.ncbi.nlm.nih.gov/geo/samples/GSM7990nnn/GSM7990101/suppl/GSM7990101_metastatic_lymph_node_S3.h5ad.gz\n"
     ]
    },
    {
     "name": "stderr",
     "output_type": "stream",
     "text": [
      "./GSM7990101_metastatic_lymph_node_S3.h5ad.gz: 611MB [00:52, 12.3MB/s]                                \n"
     ]
    },
    {
     "name": "stdout",
     "output_type": "stream",
     "text": [
      "Extracting ./GSM7990101_metastatic_lymph_node_S3.h5ad.gz into ./GSM7990101_metastatic_lymph_node_S3.h5ad\n",
      "Downloading GSM7990102 from ftp://ftp.ncbi.nlm.nih.gov/geo/samples/GSM7990nnn/GSM7990102/suppl/GSM7990102_metastatic_lymph_node_S4.h5ad.gz\n"
     ]
    },
    {
     "name": "stderr",
     "output_type": "stream",
     "text": [
      "./GSM7990102_metastatic_lymph_node_S4.h5ad.gz: 820MB [00:50, 17.0MB/s]                               \n"
     ]
    },
    {
     "name": "stdout",
     "output_type": "stream",
     "text": [
      "Extracting ./GSM7990102_metastatic_lymph_node_S4.h5ad.gz into ./GSM7990102_metastatic_lymph_node_S4.h5ad\n",
      "Downloading GSM7990103 from ftp://ftp.ncbi.nlm.nih.gov/geo/samples/GSM7990nnn/GSM7990103/suppl/GSM7990103_metastatic_lymph_node_S5.h5ad.gz\n"
     ]
    },
    {
     "name": "stderr",
     "output_type": "stream",
     "text": [
      "./GSM7990103_metastatic_lymph_node_S5.h5ad.gz: 479MB [00:26, 19.0MB/s]                               \n"
     ]
    },
    {
     "name": "stdout",
     "output_type": "stream",
     "text": [
      "Extracting ./GSM7990103_metastatic_lymph_node_S5.h5ad.gz into ./GSM7990103_metastatic_lymph_node_S5.h5ad\n",
      "Downloading GSM7990104 from ftp://ftp.ncbi.nlm.nih.gov/geo/samples/GSM7990nnn/GSM7990104/suppl/GSM7990104_metastatic_lymph_node_S6.h5ad.gz\n"
     ]
    },
    {
     "name": "stderr",
     "output_type": "stream",
     "text": [
      "./GSM7990104_metastatic_lymph_node_S6.h5ad.gz: 560MB [00:42, 13.7MB/s]                               \n"
     ]
    },
    {
     "name": "stdout",
     "output_type": "stream",
     "text": [
      "Extracting ./GSM7990104_metastatic_lymph_node_S6.h5ad.gz into ./GSM7990104_metastatic_lymph_node_S6.h5ad\n",
      "Downloading GSM7990105 from ftp://ftp.ncbi.nlm.nih.gov/geo/samples/GSM7990nnn/GSM7990105/suppl/GSM7990105_metastatic_lymph_node_S7.h5ad.gz\n"
     ]
    },
    {
     "name": "stderr",
     "output_type": "stream",
     "text": [
      "./GSM7990105_metastatic_lymph_node_S7.h5ad.gz: 512MB [00:46, 11.6MB/s]                               \n"
     ]
    },
    {
     "name": "stdout",
     "output_type": "stream",
     "text": [
      "Extracting ./GSM7990105_metastatic_lymph_node_S7.h5ad.gz into ./GSM7990105_metastatic_lymph_node_S7.h5ad\n",
      "Downloading GSM7990106 from ftp://ftp.ncbi.nlm.nih.gov/geo/samples/GSM7990nnn/GSM7990106/suppl/GSM7990106_metastatic_lymph_node_S9.h5ad.gz\n"
     ]
    },
    {
     "name": "stderr",
     "output_type": "stream",
     "text": [
      "./GSM7990106_metastatic_lymph_node_S9.h5ad.gz: 642MB [00:49, 13.5MB/s]                                \n"
     ]
    },
    {
     "name": "stdout",
     "output_type": "stream",
     "text": [
      "Extracting ./GSM7990106_metastatic_lymph_node_S9.h5ad.gz into ./GSM7990106_metastatic_lymph_node_S9.h5ad\n",
      "Downloading GSM7990107 from ftp://ftp.ncbi.nlm.nih.gov/geo/samples/GSM7990nnn/GSM7990107/suppl/GSM7990107_metastatic_lymph_node_S11.h5ad.gz\n"
     ]
    },
    {
     "name": "stderr",
     "output_type": "stream",
     "text": [
      "./GSM7990107_metastatic_lymph_node_S11.h5ad.gz: 669MB [00:29, 24.0MB/s]                               \n"
     ]
    },
    {
     "name": "stdout",
     "output_type": "stream",
     "text": [
      "Extracting ./GSM7990107_metastatic_lymph_node_S11.h5ad.gz into ./GSM7990107_metastatic_lymph_node_S11.h5ad\n",
      "Downloading GSM7990108 from ftp://ftp.ncbi.nlm.nih.gov/geo/samples/GSM7990nnn/GSM7990108/suppl/GSM7990108_metastatic_lymph_node_S17.h5ad.gz\n"
     ]
    },
    {
     "name": "stderr",
     "output_type": "stream",
     "text": [
      "./GSM7990108_metastatic_lymph_node_S17.h5ad.gz: 709MB [00:34, 21.5MB/s]                                \n"
     ]
    },
    {
     "name": "stdout",
     "output_type": "stream",
     "text": [
      "Extracting ./GSM7990108_metastatic_lymph_node_S17.h5ad.gz into ./GSM7990108_metastatic_lymph_node_S17.h5ad\n",
      "Downloading GSM7990109 from ftp://ftp.ncbi.nlm.nih.gov/geo/samples/GSM7990nnn/GSM7990109/suppl/GSM7990109_metastatic_lymph_node_S18.h5ad.gz\n"
     ]
    },
    {
     "name": "stderr",
     "output_type": "stream",
     "text": [
      "./GSM7990109_metastatic_lymph_node_S18.h5ad.gz: 650MB [00:37, 18.0MB/s]                                \n"
     ]
    },
    {
     "name": "stdout",
     "output_type": "stream",
     "text": [
      "Extracting ./GSM7990109_metastatic_lymph_node_S18.h5ad.gz into ./GSM7990109_metastatic_lymph_node_S18.h5ad\n",
      "Downloading GSM7990110 from ftp://ftp.ncbi.nlm.nih.gov/geo/samples/GSM7990nnn/GSM7990110/suppl/GSM7990110_metastatic_lymph_node_S19.h5ad.gz\n"
     ]
    },
    {
     "name": "stderr",
     "output_type": "stream",
     "text": [
      "./GSM7990110_metastatic_lymph_node_S19.h5ad.gz: 501MB [00:25, 20.3MB/s]                               \n"
     ]
    },
    {
     "name": "stdout",
     "output_type": "stream",
     "text": [
      "Extracting ./GSM7990110_metastatic_lymph_node_S19.h5ad.gz into ./GSM7990110_metastatic_lymph_node_S19.h5ad\n",
      "Downloading GSM7990111 from ftp://ftp.ncbi.nlm.nih.gov/geo/samples/GSM7990nnn/GSM7990111/suppl/GSM7990111_metastatic_lymph_node_S23.h5ad.gz\n"
     ]
    },
    {
     "name": "stderr",
     "output_type": "stream",
     "text": [
      "./GSM7990111_metastatic_lymph_node_S23.h5ad.gz: 737MB [00:45, 17.0MB/s]                               \n"
     ]
    },
    {
     "name": "stdout",
     "output_type": "stream",
     "text": [
      "Extracting ./GSM7990111_metastatic_lymph_node_S23.h5ad.gz into ./GSM7990111_metastatic_lymph_node_S23.h5ad\n",
      "Downloading GSM7990112 from ftp://ftp.ncbi.nlm.nih.gov/geo/samples/GSM7990nnn/GSM7990112/suppl/GSM7990112_metastatic_lymph_node_S24.h5ad.gz\n"
     ]
    },
    {
     "name": "stderr",
     "output_type": "stream",
     "text": [
      "./GSM7990112_metastatic_lymph_node_S24.h5ad.gz: 684MB [00:39, 18.2MB/s]                               \n"
     ]
    },
    {
     "name": "stdout",
     "output_type": "stream",
     "text": [
      "Extracting ./GSM7990112_metastatic_lymph_node_S24.h5ad.gz into ./GSM7990112_metastatic_lymph_node_S24.h5ad\n",
      "Downloading GSM7990113 from ftp://ftp.ncbi.nlm.nih.gov/geo/samples/GSM7990nnn/GSM7990113/suppl/GSM7990113_metastatic_lymph_node_S25.h5ad.gz\n"
     ]
    },
    {
     "name": "stderr",
     "output_type": "stream",
     "text": [
      "./GSM7990113_metastatic_lymph_node_S25.h5ad.gz: 609MB [00:31, 20.1MB/s]                               \n"
     ]
    },
    {
     "name": "stdout",
     "output_type": "stream",
     "text": [
      "Extracting ./GSM7990113_metastatic_lymph_node_S25.h5ad.gz into ./GSM7990113_metastatic_lymph_node_S25.h5ad\n",
      "Downloading GSM7990114 from ftp://ftp.ncbi.nlm.nih.gov/geo/samples/GSM7990nnn/GSM7990114/suppl/GSM7990114_metastatic_lymph_node_S26.h5ad.gz\n"
     ]
    },
    {
     "name": "stderr",
     "output_type": "stream",
     "text": [
      "./GSM7990114_metastatic_lymph_node_S26.h5ad.gz: 859MB [00:51, 17.3MB/s]                                \n"
     ]
    },
    {
     "name": "stdout",
     "output_type": "stream",
     "text": [
      "Extracting ./GSM7990114_metastatic_lymph_node_S26.h5ad.gz into ./GSM7990114_metastatic_lymph_node_S26.h5ad\n",
      "Downloading GSM7990115 from ftp://ftp.ncbi.nlm.nih.gov/geo/samples/GSM7990nnn/GSM7990115/suppl/GSM7990115_metastatic_lymph_node_S28.h5ad.gz\n"
     ]
    },
    {
     "name": "stderr",
     "output_type": "stream",
     "text": [
      "./GSM7990115_metastatic_lymph_node_S28.h5ad.gz: 629MB [00:27, 24.2MB/s]                               \n"
     ]
    },
    {
     "name": "stdout",
     "output_type": "stream",
     "text": [
      "Extracting ./GSM7990115_metastatic_lymph_node_S28.h5ad.gz into ./GSM7990115_metastatic_lymph_node_S28.h5ad\n",
      "Downloading GSM7990116 from ftp://ftp.ncbi.nlm.nih.gov/geo/samples/GSM7990nnn/GSM7990116/suppl/GSM7990116_metastatic_lymph_node_S33.h5ad.gz\n"
     ]
    },
    {
     "name": "stderr",
     "output_type": "stream",
     "text": [
      "./GSM7990116_metastatic_lymph_node_S33.h5ad.gz: 560MB [00:36, 15.9MB/s]                               \n"
     ]
    },
    {
     "name": "stdout",
     "output_type": "stream",
     "text": [
      "Extracting ./GSM7990116_metastatic_lymph_node_S33.h5ad.gz into ./GSM7990116_metastatic_lymph_node_S33.h5ad\n",
      "Downloading GSM7990117 from ftp://ftp.ncbi.nlm.nih.gov/geo/samples/GSM7990nnn/GSM7990117/suppl/GSM7990117_metastatic_lymph_node_S34.h5ad.gz\n"
     ]
    },
    {
     "name": "stderr",
     "output_type": "stream",
     "text": [
      "./GSM7990117_metastatic_lymph_node_S34.h5ad.gz: 720MB [01:08, 11.0MB/s]                                \n"
     ]
    },
    {
     "name": "stdout",
     "output_type": "stream",
     "text": [
      "Extracting ./GSM7990117_metastatic_lymph_node_S34.h5ad.gz into ./GSM7990117_metastatic_lymph_node_S34.h5ad\n",
      "Downloading GSM7990118 from ftp://ftp.ncbi.nlm.nih.gov/geo/samples/GSM7990nnn/GSM7990118/suppl/GSM7990118_metastatic_lymph_node_S36.h5ad.gz\n"
     ]
    },
    {
     "name": "stderr",
     "output_type": "stream",
     "text": [
      "./GSM7990118_metastatic_lymph_node_S36.h5ad.gz: 514MB [00:35, 15.2MB/s]                               \n"
     ]
    },
    {
     "name": "stdout",
     "output_type": "stream",
     "text": [
      "Extracting ./GSM7990118_metastatic_lymph_node_S36.h5ad.gz into ./GSM7990118_metastatic_lymph_node_S36.h5ad\n"
     ]
    }
   ],
   "source": [
    "sections_processed = 0\n",
    "for gsm_name, gsm in gse.gsms.items():\n",
    "    if 'metastatic' in gsm.metadata['title'][0].lower():\n",
    "        _accession = gsm.metadata['geo_accession'][0]\n",
    "        _url = gsm.metadata['supplementary_file_1'][0]\n",
    "        print(f\"Downloading {_accession} from {_url}\")\n",
    "        download_ftp(url = _url)\n",
    "        sections_processed += 1\n",
    "        if sections_processed >= MAX_SECTION:\n",
    "            break"
   ]
  },
  {
   "cell_type": "markdown",
   "metadata": {},
   "source": [
    "Downloading (and decompressing) the whole dataset (~56GB) takes ~20 minutes with a ~200Mbps internet connection. \n",
    "\n",
    "Alternatively, you can download the files outside of this notebook with another tool. Make sure that the file names follow:\n",
    "\n",
    "`GSM79901XX_metastatic_lymph_node_SYY.h5ad(.gz)`\n",
    "\n",
    "Where `XX` is a number from 00 to 18, and `YY` a number from 0 to 36 (Z-axis coordinate of the section, known from sectioning)"
   ]
  },
  {
   "cell_type": "markdown",
   "metadata": {},
   "source": [
    "### Importing `stimwrap`\n",
    "\n",
    "In general, `STIM` is a console-based tool.\n",
    "\n",
    "However, when running your analysis in the `Python` ecosystem (like here), you can transparently run `STIM` from `Python` by leveraging the wrapper `stimwrap`.\n",
    "\n",
    "`stimwrap` provides bindings for all commands, and additional tools for data preprocessing and conversion prior to downstream analysis."
   ]
  },
  {
   "cell_type": "code",
   "execution_count": 4,
   "metadata": {},
   "outputs": [],
   "source": [
    "import stimwrap as st"
   ]
  },
  {
   "cell_type": "code",
   "execution_count": 5,
   "metadata": {},
   "outputs": [
    {
     "data": {
      "text/plain": [
       "'/data/rajewsky/home/dleonpe/projects/stim_benchmark/repos/bin'"
      ]
     },
     "execution_count": 5,
     "metadata": {},
     "output_type": "execute_result"
    }
   ],
   "source": [
    "st.set_bin_path(\"/data/rajewsky/home/dleonpe/projects/stim_benchmark/repos/bin\")"
   ]
  },
  {
   "cell_type": "markdown",
   "metadata": {},
   "source": [
    "### Creating a N5 container from `AnnData` objects\n",
    "\n",
    "STIM requires that the individual section data is resaved into a single N5 container.\n",
    "\n",
    "This allows to have a single directory containing all data (spatial expression values), metadata (cell annotations), and the output from STIM registration (landmarks, transformation matrices).\n",
    "\n",
    "You can find more about the N5 standard here."
   ]
  },
  {
   "cell_type": "code",
   "execution_count": 6,
   "metadata": {},
   "outputs": [
    {
     "name": "stdout",
     "output_type": "stream",
     "text": [
      "Section ID: ./GSM7990100_metastatic_lymph_node_S2.h5ad; Z-axis: 2\n",
      "Section ID: ./GSM7990101_metastatic_lymph_node_S3.h5ad; Z-axis: 3\n",
      "Section ID: ./GSM7990102_metastatic_lymph_node_S4.h5ad; Z-axis: 4\n",
      "Section ID: ./GSM7990103_metastatic_lymph_node_S5.h5ad; Z-axis: 5\n",
      "Section ID: ./GSM7990104_metastatic_lymph_node_S6.h5ad; Z-axis: 6\n",
      "Section ID: ./GSM7990105_metastatic_lymph_node_S7.h5ad; Z-axis: 7\n",
      "Section ID: ./GSM7990106_metastatic_lymph_node_S9.h5ad; Z-axis: 9\n",
      "Section ID: ./GSM7990107_metastatic_lymph_node_S11.h5ad; Z-axis: 11\n",
      "Section ID: ./GSM7990108_metastatic_lymph_node_S17.h5ad; Z-axis: 17\n",
      "Section ID: ./GSM7990109_metastatic_lymph_node_S18.h5ad; Z-axis: 18\n",
      "Section ID: ./GSM7990110_metastatic_lymph_node_S19.h5ad; Z-axis: 19\n",
      "Section ID: ./GSM7990111_metastatic_lymph_node_S23.h5ad; Z-axis: 23\n",
      "Section ID: ./GSM7990112_metastatic_lymph_node_S24.h5ad; Z-axis: 24\n",
      "Section ID: ./GSM7990113_metastatic_lymph_node_S25.h5ad; Z-axis: 25\n",
      "Section ID: ./GSM7990114_metastatic_lymph_node_S26.h5ad; Z-axis: 26\n",
      "Section ID: ./GSM7990115_metastatic_lymph_node_S28.h5ad; Z-axis: 28\n",
      "Section ID: ./GSM7990116_metastatic_lymph_node_S33.h5ad; Z-axis: 33\n",
      "Section ID: ./GSM7990117_metastatic_lymph_node_S34.h5ad; Z-axis: 34\n",
      "Section ID: ./GSM7990118_metastatic_lymph_node_S36.h5ad; Z-axis: 36\n"
     ]
    }
   ],
   "source": [
    "import glob\n",
    "\n",
    "sections = glob.glob(\"./*.h5ad\")\n",
    "sections_numbers = [int(s.split(\".\")[-2].split(\"_\")[-1][1:]) for s in sections]\n",
    "sections_numbers, sections = zip(*sorted(zip(sections_numbers, sections)))\n",
    "\n",
    "print(*[f\"Section ID: {s}; Z-axis: {n}\" for s, n in zip(sections, sections_numbers)], sep=\"\\n\")"
   ]
  },
  {
   "cell_type": "markdown",
   "metadata": {},
   "source": [
    "With the code above, we have sorted the files according to their names, which contain the Z-axis offset (equal to section number).\n",
    "\n",
    "Now, we add the slices into a single N5 container:"
   ]
  },
  {
   "cell_type": "code",
   "execution_count": 7,
   "metadata": {},
   "outputs": [
    {
     "name": "stdout",
     "output_type": "stream",
     "text": [
      "[2024-07-10T11:59:07,159] [main] INFO : Log level set to: INFO\n",
      "[2024-07-10T11:59:07,217] [main] INFO : Container '/data/rajewsky/home/dleonpe/projects/stim_benchmark/repos/stimwrap/notebooks/./openst_metastatic_lymph_node.n5' is new ...\n",
      "[2024-07-10T11:59:07,392] [main] INFO : Linked dataset './GSM7990100_metastatic_lymph_node_S2.h5ad' to container './openst_metastatic_lymph_node.n5'.\n",
      "[2024-07-10T11:59:08,102] [main] INFO : Log level set to: INFO\n",
      "[2024-07-10T11:59:08,160] [main] INFO : Container '/data/rajewsky/home/dleonpe/projects/stim_benchmark/repos/stimwrap/notebooks/./openst_metastatic_lymph_node.n5' exists\n",
      "[2024-07-10T11:59:08,301] [main] INFO : Linked dataset './GSM7990101_metastatic_lymph_node_S3.h5ad' to container './openst_metastatic_lymph_node.n5'.\n",
      "[2024-07-10T11:59:08,989] [main] INFO : Log level set to: INFO\n",
      "[2024-07-10T11:59:09,048] [main] INFO : Container '/data/rajewsky/home/dleonpe/projects/stim_benchmark/repos/stimwrap/notebooks/./openst_metastatic_lymph_node.n5' exists\n",
      "[2024-07-10T11:59:09,184] [main] INFO : Linked dataset './GSM7990102_metastatic_lymph_node_S4.h5ad' to container './openst_metastatic_lymph_node.n5'.\n",
      "[2024-07-10T11:59:09,876] [main] INFO : Log level set to: INFO\n",
      "[2024-07-10T11:59:09,935] [main] INFO : Container '/data/rajewsky/home/dleonpe/projects/stim_benchmark/repos/stimwrap/notebooks/./openst_metastatic_lymph_node.n5' exists\n",
      "[2024-07-10T11:59:10,073] [main] INFO : Linked dataset './GSM7990103_metastatic_lymph_node_S5.h5ad' to container './openst_metastatic_lymph_node.n5'.\n",
      "[2024-07-10T11:59:10,758] [main] INFO : Log level set to: INFO\n",
      "[2024-07-10T11:59:10,817] [main] INFO : Container '/data/rajewsky/home/dleonpe/projects/stim_benchmark/repos/stimwrap/notebooks/./openst_metastatic_lymph_node.n5' exists\n",
      "[2024-07-10T11:59:10,957] [main] INFO : Linked dataset './GSM7990104_metastatic_lymph_node_S6.h5ad' to container './openst_metastatic_lymph_node.n5'.\n",
      "[2024-07-10T11:59:11,659] [main] INFO : Log level set to: INFO\n",
      "[2024-07-10T11:59:11,720] [main] INFO : Container '/data/rajewsky/home/dleonpe/projects/stim_benchmark/repos/stimwrap/notebooks/./openst_metastatic_lymph_node.n5' exists\n",
      "[2024-07-10T11:59:11,857] [main] INFO : Linked dataset './GSM7990105_metastatic_lymph_node_S7.h5ad' to container './openst_metastatic_lymph_node.n5'.\n",
      "[2024-07-10T11:59:12,579] [main] INFO : Log level set to: INFO\n",
      "[2024-07-10T11:59:12,639] [main] INFO : Container '/data/rajewsky/home/dleonpe/projects/stim_benchmark/repos/stimwrap/notebooks/./openst_metastatic_lymph_node.n5' exists\n",
      "[2024-07-10T11:59:12,778] [main] INFO : Linked dataset './GSM7990106_metastatic_lymph_node_S9.h5ad' to container './openst_metastatic_lymph_node.n5'.\n",
      "[2024-07-10T11:59:13,506] [main] INFO : Log level set to: INFO\n",
      "[2024-07-10T11:59:13,569] [main] INFO : Container '/data/rajewsky/home/dleonpe/projects/stim_benchmark/repos/stimwrap/notebooks/./openst_metastatic_lymph_node.n5' exists\n",
      "[2024-07-10T11:59:13,719] [main] INFO : Linked dataset './GSM7990107_metastatic_lymph_node_S11.h5ad' to container './openst_metastatic_lymph_node.n5'.\n",
      "[2024-07-10T11:59:14,427] [main] INFO : Log level set to: INFO\n",
      "[2024-07-10T11:59:14,487] [main] INFO : Container '/data/rajewsky/home/dleonpe/projects/stim_benchmark/repos/stimwrap/notebooks/./openst_metastatic_lymph_node.n5' exists\n",
      "[2024-07-10T11:59:14,621] [main] INFO : Linked dataset './GSM7990108_metastatic_lymph_node_S17.h5ad' to container './openst_metastatic_lymph_node.n5'.\n",
      "[2024-07-10T11:59:15,349] [main] INFO : Log level set to: INFO\n",
      "[2024-07-10T11:59:15,409] [main] INFO : Container '/data/rajewsky/home/dleonpe/projects/stim_benchmark/repos/stimwrap/notebooks/./openst_metastatic_lymph_node.n5' exists\n",
      "[2024-07-10T11:59:15,542] [main] INFO : Linked dataset './GSM7990109_metastatic_lymph_node_S18.h5ad' to container './openst_metastatic_lymph_node.n5'.\n",
      "[2024-07-10T11:59:16,223] [main] INFO : Log level set to: INFO\n",
      "[2024-07-10T11:59:16,282] [main] INFO : Container '/data/rajewsky/home/dleonpe/projects/stim_benchmark/repos/stimwrap/notebooks/./openst_metastatic_lymph_node.n5' exists\n",
      "[2024-07-10T11:59:16,414] [main] INFO : Linked dataset './GSM7990110_metastatic_lymph_node_S19.h5ad' to container './openst_metastatic_lymph_node.n5'.\n",
      "[2024-07-10T11:59:17,092] [main] INFO : Log level set to: INFO\n",
      "[2024-07-10T11:59:17,152] [main] INFO : Container '/data/rajewsky/home/dleonpe/projects/stim_benchmark/repos/stimwrap/notebooks/./openst_metastatic_lymph_node.n5' exists\n",
      "[2024-07-10T11:59:17,286] [main] INFO : Linked dataset './GSM7990111_metastatic_lymph_node_S23.h5ad' to container './openst_metastatic_lymph_node.n5'.\n",
      "[2024-07-10T11:59:17,963] [main] INFO : Log level set to: INFO\n",
      "[2024-07-10T11:59:18,022] [main] INFO : Container '/data/rajewsky/home/dleonpe/projects/stim_benchmark/repos/stimwrap/notebooks/./openst_metastatic_lymph_node.n5' exists\n",
      "[2024-07-10T11:59:18,159] [main] INFO : Linked dataset './GSM7990112_metastatic_lymph_node_S24.h5ad' to container './openst_metastatic_lymph_node.n5'.\n",
      "[2024-07-10T11:59:18,893] [main] INFO : Log level set to: INFO\n",
      "[2024-07-10T11:59:18,954] [main] INFO : Container '/data/rajewsky/home/dleonpe/projects/stim_benchmark/repos/stimwrap/notebooks/./openst_metastatic_lymph_node.n5' exists\n",
      "[2024-07-10T11:59:19,091] [main] INFO : Linked dataset './GSM7990113_metastatic_lymph_node_S25.h5ad' to container './openst_metastatic_lymph_node.n5'.\n",
      "[2024-07-10T11:59:19,845] [main] INFO : Log level set to: INFO\n",
      "[2024-07-10T11:59:19,904] [main] INFO : Container '/data/rajewsky/home/dleonpe/projects/stim_benchmark/repos/stimwrap/notebooks/./openst_metastatic_lymph_node.n5' exists\n",
      "[2024-07-10T11:59:20,042] [main] INFO : Linked dataset './GSM7990114_metastatic_lymph_node_S26.h5ad' to container './openst_metastatic_lymph_node.n5'.\n",
      "[2024-07-10T11:59:20,751] [main] INFO : Log level set to: INFO\n",
      "[2024-07-10T11:59:20,810] [main] INFO : Container '/data/rajewsky/home/dleonpe/projects/stim_benchmark/repos/stimwrap/notebooks/./openst_metastatic_lymph_node.n5' exists\n",
      "[2024-07-10T11:59:20,946] [main] INFO : Linked dataset './GSM7990115_metastatic_lymph_node_S28.h5ad' to container './openst_metastatic_lymph_node.n5'.\n",
      "[2024-07-10T11:59:21,660] [main] INFO : Log level set to: INFO\n",
      "[2024-07-10T11:59:21,720] [main] INFO : Container '/data/rajewsky/home/dleonpe/projects/stim_benchmark/repos/stimwrap/notebooks/./openst_metastatic_lymph_node.n5' exists\n",
      "[2024-07-10T11:59:21,854] [main] INFO : Linked dataset './GSM7990116_metastatic_lymph_node_S33.h5ad' to container './openst_metastatic_lymph_node.n5'.\n",
      "[2024-07-10T11:59:22,578] [main] INFO : Log level set to: INFO\n",
      "[2024-07-10T11:59:22,644] [main] INFO : Container '/data/rajewsky/home/dleonpe/projects/stim_benchmark/repos/stimwrap/notebooks/./openst_metastatic_lymph_node.n5' exists\n",
      "[2024-07-10T11:59:22,783] [main] INFO : Linked dataset './GSM7990117_metastatic_lymph_node_S34.h5ad' to container './openst_metastatic_lymph_node.n5'.\n",
      "[2024-07-10T11:59:23,508] [main] INFO : Log level set to: INFO\n",
      "[2024-07-10T11:59:23,570] [main] INFO : Container '/data/rajewsky/home/dleonpe/projects/stim_benchmark/repos/stimwrap/notebooks/./openst_metastatic_lymph_node.n5' exists\n",
      "[2024-07-10T11:59:23,708] [main] INFO : Linked dataset './GSM7990118_metastatic_lymph_node_S36.h5ad' to container './openst_metastatic_lymph_node.n5'.\n"
     ]
    }
   ],
   "source": [
    "container_path = \"./openst_metastatic_lymph_node.n5\"\n",
    "\n",
    "st.add_slices(container=container_path, inputs=sections)"
   ]
  },
  {
   "cell_type": "markdown",
   "metadata": {},
   "source": [
    "### Pairwise registration\n",
    "\n",
    "As indicated in its name, STIM will handle ST data as images. These are multi-channel images where the XY dimensions can be specified by a scaling factor (e.g., 1:1 to map 1 pixel to 1 ST unit), and the channels are genes.\n",
    "\n",
    "During pairwise registration, STIM will automatically find corresponding points between pairs of sections for a subset of genes, and keep those with _high quality/agreement_ across all genes for a pair of sections. This is required prior to assembling a global alignment model (when more than 2 sections are provided).\n",
    "\n",
    "A subset of genes is used to avoid registering with all genes (in sequencing-based ST, this can lead to ~30,000 channels). This might be too time-consuming, and also most genes do not have sufficient information to render images with spatial patterns that can be used for feature detection (sparsity problem). By default, STIM detects genes with highest variance as a proxy for genes that might show suitable spatial patterns. Otherwise, the user can specify a set of genes used to render images for pairwise alignment. This is what we will do in this tutorial."
   ]
  },
  {
   "cell_type": "markdown",
   "metadata": {},
   "source": [
    "This assumes that you have installed `scanpy`. You can do that by simply running\n",
    "```bash\n",
    "pip install scanpy\n",
    "```\n",
    "\n",
    "Then, you can use it to detect highly variable genes, following the typical workflow for single-cell/spatial analysis"
   ]
  },
  {
   "cell_type": "code",
   "execution_count": null,
   "metadata": {},
   "outputs": [],
   "source": [
    "# Run the code below if you get issues with __DATA_TYPES__\n",
    "# container = st.Container(container_path)\n",
    "# container.cleanup_container()"
   ]
  },
  {
   "cell_type": "code",
   "execution_count": 8,
   "metadata": {},
   "outputs": [
    {
     "name": "stderr",
     "output_type": "stream",
     "text": [
      "/home/dleonpe/miniconda3/envs/stim_benchmark/lib/python3.11/site-packages/scanpy/preprocessing/_highly_variable_genes.py:664: ImplicitModificationWarning: Trying to modify attribute `._uns` of view, initializing view as actual.\n",
      "  adata.uns[\"hvg\"] = {\"flavor\": flavor}\n"
     ]
    }
   ],
   "source": [
    "import scanpy as sc\n",
    "import h5py\n",
    "\n",
    "# Compute common genes\n",
    "common_genes = set([g.decode(\"utf-8\") for g in h5py.File(sections[0], 'r')['var/_index'][:].tolist()])\n",
    "for s in sections[1:]:\n",
    "    with h5py.File(s, 'r') as s_data:\n",
    "        common_genes.intersection(set([g.decode(\"utf-8\") for g in s_data['var/_index'][:].tolist()]))\n",
    "\n",
    "# Load one of the sections; these data is already normalized\n",
    "adata = sc.read_h5ad(sections[0])\n",
    "\n",
    "# Filter and normalize\n",
    "sc.pp.calculate_qc_metrics(adata, inplace=True)\n",
    "sc.pp.filter_cells(adata, min_counts=250)\n",
    "sc.pp.filter_cells(adata, max_counts=10000)\n",
    "sc.pp.normalize_total(adata, inplace=True)\n",
    "sc.pp.log1p(adata)\n",
    "\n",
    "# Subset to genes common across all sections\n",
    "adata = adata[:, adata.var_names.isin(common_genes)]\n",
    "\n",
    "# Detect and select top 30 highly variable genes (common across all sections)\n",
    "sc.pp.highly_variable_genes(adata, flavor=\"seurat\", n_top_genes=10)\n",
    "hvg_genes = adata.var_names[adata.var['highly_variable']].tolist()"
   ]
  },
  {
   "cell_type": "code",
   "execution_count": 9,
   "metadata": {},
   "outputs": [
    {
     "data": {
      "text/plain": [
       "['COL1A1',\n",
       " 'DEFA3',\n",
       " 'FDCSP',\n",
       " 'HBB',\n",
       " 'IGHA1',\n",
       " 'IGHG4',\n",
       " 'IGHGP',\n",
       " 'IGLC3',\n",
       " 'PLA2G2A',\n",
       " 'S100A7']"
      ]
     },
     "execution_count": 9,
     "metadata": {},
     "output_type": "execute_result"
    }
   ],
   "source": [
    "hvg_genes"
   ]
  },
  {
   "cell_type": "code",
   "execution_count": 10,
   "metadata": {},
   "outputs": [
    {
     "data": {
      "text/plain": [
       "854"
      ]
     },
     "execution_count": 10,
     "metadata": {},
     "output_type": "execute_result"
    }
   ],
   "source": [
    "# we remove `adata` from memory because it is not required anymore\n",
    "import gc\n",
    "del adata\n",
    "gc.collect()"
   ]
  },
  {
   "cell_type": "markdown",
   "metadata": {},
   "source": [
    "Now, we run the pairwise alignment with the `hvg_genes`"
   ]
  },
  {
   "cell_type": "code",
   "execution_count": 16,
   "metadata": {},
   "outputs": [
    {
     "name": "stdout",
     "output_type": "stream",
     "text": [
      "[2024-07-10T14:11:21,142] [main] INFO : Log level set to: INFO\n",
      "[2024-07-10T14:11:21,319] [main] WARN : No input datasets specified. Trying to open all datasets in './openst_metastatic_lymph_node.n5' ...\n",
      "[2024-07-10T14:11:21,320] [main] INFO : Opening 19 datasets\n"
     ]
    },
    {
     "name": "stderr",
     "output_type": "stream",
     "text": [
      "Datasets of type STRING(-1) not yet implemented.\n",
      "Datasets of type BOOLEAN(1) not yet implemented.\n",
      "Datasets of type STRING(-1) not yet implemented.\n",
      "Datasets of type BOOLEAN(1) not yet implemented.\n",
      "Datasets of type STRING(-1) not yet implemented.\n",
      "Datasets of type BOOLEAN(1) not yet implemented.\n",
      "Datasets of type STRING(-1) not yet implemented.\n",
      "Datasets of type BOOLEAN(1) not yet implemented.\n",
      "Datasets of type STRING(-1) not yet implemented.\n",
      "Datasets of type BOOLEAN(1) not yet implemented.\n",
      "Datasets of type STRING(-1) not yet implemented.\n",
      "Datasets of type BOOLEAN(1) not yet implemented.\n",
      "Datasets of type STRING(-1) not yet implemented.\n",
      "Datasets of type BOOLEAN(1) not yet implemented.\n",
      "Datasets of type STRING(-1) not yet implemented.\n",
      "Datasets of type BOOLEAN(1) not yet implemented.\n",
      "Datasets of type STRING(-1) not yet implemented.\n",
      "Datasets of type BOOLEAN(1) not yet implemented.\n",
      "Datasets of type STRING(-1) not yet implemented.\n",
      "Datasets of type BOOLEAN(1) not yet implemented.\n",
      "Datasets of type STRING(-1) not yet implemented.\n",
      "Datasets of type BOOLEAN(1) not yet implemented.\n",
      "Datasets of type STRING(-1) not yet implemented.\n",
      "Datasets of type BOOLEAN(1) not yet implemented.\n",
      "Datasets of type STRING(-1) not yet implemented.\n",
      "Datasets of type BOOLEAN(1) not yet implemented.\n",
      "Datasets of type STRING(-1) not yet implemented.\n",
      "Datasets of type BOOLEAN(1) not yet implemented.\n",
      "Datasets of type STRING(-1) not yet implemented.\n",
      "Datasets of type BOOLEAN(1) not yet implemented.\n",
      "Datasets of type STRING(-1) not yet implemented.\n",
      "Datasets of type BOOLEAN(1) not yet implemented.\n",
      "Datasets of type STRING(-1) not yet implemented.\n",
      "Datasets of type BOOLEAN(1) not yet implemented.\n",
      "Datasets of type STRING(-1) not yet implemented.\n",
      "Datasets of type BOOLEAN(1) not yet implemented.\n",
      "Datasets of type STRING(-1) not yet implemented.\n",
      "Datasets of type BOOLEAN(1) not yet implemented.\n"
     ]
    },
    {
     "name": "stdout",
     "output_type": "stream",
     "text": [
      "[2024-07-10T14:11:39,145] [main] WARN : Parameter maxEpsilon is unset or negative; using 10 * average distance between sequenced locations = 238.0829939722002\n",
      "[2024-07-10T14:11:39,145] [main] INFO : Overwriting previous results for: GSM7990100_metastatic_lymph_node_S2.h5ad-GSM7990101_metastatic_lymph_node_S3.h5ad\n",
      "[2024-07-10T14:11:39,156] [main] INFO : Overwriting previous results for: GSM7990100_metastatic_lymph_node_S2.h5ad-GSM7990102_metastatic_lymph_node_S4.h5ad\n",
      "[2024-07-10T14:11:39,163] [main] INFO : Overwriting previous results for: GSM7990101_metastatic_lymph_node_S3.h5ad-GSM7990102_metastatic_lymph_node_S4.h5ad\n",
      "[2024-07-10T14:11:39,171] [main] INFO : Overwriting previous results for: GSM7990101_metastatic_lymph_node_S3.h5ad-GSM7990103_metastatic_lymph_node_S5.h5ad\n",
      "[2024-07-10T14:11:39,179] [main] INFO : Overwriting previous results for: GSM7990102_metastatic_lymph_node_S4.h5ad-GSM7990103_metastatic_lymph_node_S5.h5ad\n",
      "[2024-07-10T14:11:39,187] [main] INFO : Overwriting previous results for: GSM7990102_metastatic_lymph_node_S4.h5ad-GSM7990104_metastatic_lymph_node_S6.h5ad\n",
      "[2024-07-10T14:11:39,195] [main] INFO : Overwriting previous results for: GSM7990103_metastatic_lymph_node_S5.h5ad-GSM7990104_metastatic_lymph_node_S6.h5ad\n",
      "[2024-07-10T14:11:39,203] [main] INFO : Overwriting previous results for: GSM7990103_metastatic_lymph_node_S5.h5ad-GSM7990105_metastatic_lymph_node_S7.h5ad\n",
      "[2024-07-10T14:11:39,210] [main] INFO : Overwriting previous results for: GSM7990104_metastatic_lymph_node_S6.h5ad-GSM7990105_metastatic_lymph_node_S7.h5ad\n",
      "[2024-07-10T14:11:39,218] [main] INFO : Overwriting previous results for: GSM7990104_metastatic_lymph_node_S6.h5ad-GSM7990106_metastatic_lymph_node_S9.h5ad\n",
      "[2024-07-10T14:11:39,226] [main] INFO : Overwriting previous results for: GSM7990105_metastatic_lymph_node_S7.h5ad-GSM7990106_metastatic_lymph_node_S9.h5ad\n",
      "[2024-07-10T14:11:39,233] [main] INFO : Overwriting previous results for: GSM7990105_metastatic_lymph_node_S7.h5ad-GSM7990107_metastatic_lymph_node_S11.h5ad\n",
      "[2024-07-10T14:11:39,241] [main] INFO : Overwriting previous results for: GSM7990106_metastatic_lymph_node_S9.h5ad-GSM7990107_metastatic_lymph_node_S11.h5ad\n",
      "[2024-07-10T14:11:39,249] [main] INFO : Overwriting previous results for: GSM7990106_metastatic_lymph_node_S9.h5ad-GSM7990108_metastatic_lymph_node_S17.h5ad\n",
      "[2024-07-10T14:11:39,257] [main] INFO : Overwriting previous results for: GSM7990107_metastatic_lymph_node_S11.h5ad-GSM7990108_metastatic_lymph_node_S17.h5ad\n",
      "[2024-07-10T14:11:39,264] [main] INFO : Overwriting previous results for: GSM7990107_metastatic_lymph_node_S11.h5ad-GSM7990109_metastatic_lymph_node_S18.h5ad\n",
      "[2024-07-10T14:11:39,272] [main] INFO : Overwriting previous results for: GSM7990108_metastatic_lymph_node_S17.h5ad-GSM7990109_metastatic_lymph_node_S18.h5ad\n",
      "[2024-07-10T14:11:39,280] [main] INFO : Overwriting previous results for: GSM7990108_metastatic_lymph_node_S17.h5ad-GSM7990110_metastatic_lymph_node_S19.h5ad\n",
      "[2024-07-10T14:11:39,288] [main] INFO : Overwriting previous results for: GSM7990109_metastatic_lymph_node_S18.h5ad-GSM7990110_metastatic_lymph_node_S19.h5ad\n",
      "[2024-07-10T14:11:39,296] [main] INFO : Overwriting previous results for: GSM7990109_metastatic_lymph_node_S18.h5ad-GSM7990111_metastatic_lymph_node_S23.h5ad\n",
      "[2024-07-10T14:11:39,305] [main] INFO : Overwriting previous results for: GSM7990110_metastatic_lymph_node_S19.h5ad-GSM7990111_metastatic_lymph_node_S23.h5ad\n",
      "[2024-07-10T14:11:39,313] [main] INFO : Overwriting previous results for: GSM7990110_metastatic_lymph_node_S19.h5ad-GSM7990112_metastatic_lymph_node_S24.h5ad\n",
      "[2024-07-10T14:11:39,321] [main] INFO : Overwriting previous results for: GSM7990111_metastatic_lymph_node_S23.h5ad-GSM7990112_metastatic_lymph_node_S24.h5ad\n",
      "[2024-07-10T14:11:39,330] [main] INFO : Overwriting previous results for: GSM7990111_metastatic_lymph_node_S23.h5ad-GSM7990113_metastatic_lymph_node_S25.h5ad\n",
      "[2024-07-10T14:11:39,338] [main] INFO : Overwriting previous results for: GSM7990112_metastatic_lymph_node_S24.h5ad-GSM7990113_metastatic_lymph_node_S25.h5ad\n",
      "[2024-07-10T14:11:39,346] [main] INFO : Overwriting previous results for: GSM7990112_metastatic_lymph_node_S24.h5ad-GSM7990114_metastatic_lymph_node_S26.h5ad\n",
      "[2024-07-10T14:11:39,355] [main] INFO : Overwriting previous results for: GSM7990113_metastatic_lymph_node_S25.h5ad-GSM7990114_metastatic_lymph_node_S26.h5ad\n",
      "[2024-07-10T14:11:39,363] [main] INFO : Overwriting previous results for: GSM7990113_metastatic_lymph_node_S25.h5ad-GSM7990115_metastatic_lymph_node_S28.h5ad\n",
      "[2024-07-10T14:11:39,372] [main] INFO : Overwriting previous results for: GSM7990114_metastatic_lymph_node_S26.h5ad-GSM7990115_metastatic_lymph_node_S28.h5ad\n",
      "[2024-07-10T14:11:39,380] [main] INFO : Overwriting previous results for: GSM7990114_metastatic_lymph_node_S26.h5ad-GSM7990116_metastatic_lymph_node_S33.h5ad\n",
      "[2024-07-10T14:11:39,389] [main] INFO : Overwriting previous results for: GSM7990115_metastatic_lymph_node_S28.h5ad-GSM7990116_metastatic_lymph_node_S33.h5ad\n",
      "[2024-07-10T14:11:39,397] [main] INFO : Overwriting previous results for: GSM7990115_metastatic_lymph_node_S28.h5ad-GSM7990117_metastatic_lymph_node_S34.h5ad\n",
      "[2024-07-10T14:11:39,405] [main] INFO : Overwriting previous results for: GSM7990116_metastatic_lymph_node_S33.h5ad-GSM7990117_metastatic_lymph_node_S34.h5ad\n",
      "[2024-07-10T14:11:39,414] [main] INFO : Overwriting previous results for: GSM7990116_metastatic_lymph_node_S33.h5ad-GSM7990118_metastatic_lymph_node_S36.h5ad\n",
      "[2024-07-10T14:11:39,422] [main] INFO : Overwriting previous results for: GSM7990117_metastatic_lymph_node_S34.h5ad-GSM7990118_metastatic_lymph_node_S36.h5ad\n",
      "[2024-07-10T14:11:39,446] [main] INFO : Aligning GSM7990100_metastatic_lymph_node_S2.h5ad <> GSM7990101_metastatic_lymph_node_S3.h5ad on 10 genes (8 threads)\n",
      "[==================================================] 100.00%\n",
      "[2024-07-10T14:14:15,312] [main] INFO : GSM7990100_metastatic_lymph_node_S2.h5ad<>GSM7990101_metastatic_lymph_node_S3.h5ad\t214\t228\t2d-affine: (0.9930724762518869, -0.11750343361342772, 1758.1476334792267, 0.11750343361342772, 0.9930724762518869, -656.0453000817971)\n",
      "[2024-07-10T14:14:15,406] [main] INFO : Aligning GSM7990100_metastatic_lymph_node_S2.h5ad <> GSM7990102_metastatic_lymph_node_S4.h5ad on 10 genes (8 threads)\n",
      "[==================================================] 100.00%\n",
      "[2024-07-10T14:17:51,707] [main] INFO : GSM7990100_metastatic_lymph_node_S2.h5ad<>GSM7990102_metastatic_lymph_node_S4.h5ad\t225\t244\t2d-affine: (0.9855864542641983, -0.16917251895897614, 654.7365192672025, 0.16917251895897614, 0.9855864542641983, -3070.6745302013637)\n",
      "[2024-07-10T14:17:51,785] [main] INFO : Aligning GSM7990101_metastatic_lymph_node_S3.h5ad <> GSM7990102_metastatic_lymph_node_S4.h5ad on 10 genes (8 threads)\n",
      "[==================================================] 100.00%\n",
      "[2024-07-10T14:20:54,645] [main] INFO : GSM7990101_metastatic_lymph_node_S3.h5ad<>GSM7990102_metastatic_lymph_node_S4.h5ad\t201\t212\t2d-affine: (0.9984940039691498, -0.0548609518478809, -1322.3058554630597, 0.0548609518478809, 0.9984940039691498, -2241.313556027248)\n",
      "[2024-07-10T14:20:54,724] [main] INFO : Aligning GSM7990101_metastatic_lymph_node_S3.h5ad <> GSM7990103_metastatic_lymph_node_S5.h5ad on 10 genes (8 threads)\n",
      "[==================================================] 100.00%\n",
      "[2024-07-10T14:22:26,753] [main] INFO : GSM7990101_metastatic_lymph_node_S3.h5ad<>GSM7990103_metastatic_lymph_node_S5.h5ad\t32\t46\t2d-affine: (0.24496936387572854, 0.9695308199135916, -1416.4985082950004, -0.9695308199135916, 0.24496936387572854, 8281.480406494491)\n",
      "[2024-07-10T14:22:26,851] [main] INFO : Aligning GSM7990102_metastatic_lymph_node_S4.h5ad <> GSM7990103_metastatic_lymph_node_S5.h5ad on 10 genes (8 threads)\n",
      "[==================================================] 100.00%\n",
      "[2024-07-10T14:23:31,131] [main] INFO : GSM7990102_metastatic_lymph_node_S4.h5ad<>GSM7990103_metastatic_lymph_node_S5.h5ad\t97\t100\t2d-affine: (0.16715156244685705, 0.9859312121905739, 593.423663917787, -0.9859312121905739, 0.16715156244685705, 10713.086696494911)\n",
      "[2024-07-10T14:23:31,207] [main] INFO : Aligning GSM7990102_metastatic_lymph_node_S4.h5ad <> GSM7990104_metastatic_lymph_node_S6.h5ad on 10 genes (8 threads)\n",
      "[==================================================] 100.00%\n",
      "[2024-07-10T14:24:17,199] [main] INFO : GSM7990102_metastatic_lymph_node_S4.h5ad<>GSM7990104_metastatic_lymph_node_S6.h5ad\t41\t53\t2d-affine: (0.1049254182496851, 0.9944800936193389, 1582.930410102509, -0.9944800936193389, 0.1049254182496851, 15186.558005851404)\n",
      "[2024-07-10T14:24:17,287] [main] INFO : Aligning GSM7990103_metastatic_lymph_node_S5.h5ad <> GSM7990104_metastatic_lymph_node_S6.h5ad on 10 genes (8 threads)\n",
      "[==================================================] 100.00%\n",
      "[2024-07-10T14:25:34,550] [main] INFO : GSM7990103_metastatic_lymph_node_S5.h5ad<>GSM7990104_metastatic_lymph_node_S6.h5ad\t55\t71\t2d-affine: (0.9981483697091837, 0.060826244721326445, -4201.366392565006, -0.060826244721326445, 0.9981483697091837, 1658.1579551617888)\n",
      "[2024-07-10T14:25:34,634] [main] INFO : Aligning GSM7990103_metastatic_lymph_node_S5.h5ad <> GSM7990105_metastatic_lymph_node_S7.h5ad on 10 genes (8 threads)\n",
      "[==================================================] 100.00%\n",
      "[2024-07-10T14:27:45,864] [main] INFO : GSM7990103_metastatic_lymph_node_S5.h5ad<>GSM7990105_metastatic_lymph_node_S7.h5ad\t33\t53\t2d-affine: (0.04995118863338701, -0.998751660200929, 11539.647490728634, 0.998751660200929, 0.04995118863338701, -173.08922443669837)\n",
      "[2024-07-10T14:27:45,949] [main] INFO : Aligning GSM7990104_metastatic_lymph_node_S6.h5ad <> GSM7990105_metastatic_lymph_node_S7.h5ad on 10 genes (8 threads)\n",
      "[==================================================] 100.00%\n",
      "[2024-07-10T14:29:14,842] [main] INFO : GSM7990104_metastatic_lymph_node_S6.h5ad<>GSM7990105_metastatic_lymph_node_S7.h5ad\t0\t42\t2d-affine: (1.0, 0.0, -0.0, -0.0, 1.0, 0.0)\n",
      "[2024-07-10T14:29:14,849] [main] INFO : Aligning GSM7990104_metastatic_lymph_node_S6.h5ad <> GSM7990106_metastatic_lymph_node_S9.h5ad on 10 genes (8 threads)\n",
      "[==================================================] 100.00%\n",
      "[2024-07-10T14:30:53,368] [main] INFO : GSM7990104_metastatic_lymph_node_S6.h5ad<>GSM7990106_metastatic_lymph_node_S9.h5ad\t0\t33\t2d-affine: (1.0, 0.0, -0.0, -0.0, 1.0, 0.0)\n",
      "[2024-07-10T14:30:53,376] [main] INFO : Aligning GSM7990105_metastatic_lymph_node_S7.h5ad <> GSM7990106_metastatic_lymph_node_S9.h5ad on 10 genes (8 threads)\n",
      "[==================================================] 100.00%\n",
      "[2024-07-10T14:32:25,420] [main] INFO : GSM7990105_metastatic_lymph_node_S7.h5ad<>GSM7990106_metastatic_lymph_node_S9.h5ad\t96\t108\t2d-affine: (0.9994601034592853, -0.03285576955657631, 862.6045684782264, 0.03285576955657631, 0.9994601034592853, -632.9428864308932)\n",
      "[2024-07-10T14:32:25,494] [main] INFO : Aligning GSM7990105_metastatic_lymph_node_S7.h5ad <> GSM7990107_metastatic_lymph_node_S11.h5ad on 10 genes (8 threads)\n",
      "[==================================================] 100.00%\n",
      "[2024-07-10T14:34:07,696] [main] INFO : GSM7990105_metastatic_lymph_node_S7.h5ad<>GSM7990107_metastatic_lymph_node_S11.h5ad\t43\t60\t2d-affine: (0.9999336323614991, -0.011520888522087104, -453.5327272914208, 0.011520888522087104, 0.9999336323614991, 1089.4605431767407)\n",
      "[2024-07-10T14:34:07,772] [main] INFO : Aligning GSM7990106_metastatic_lymph_node_S9.h5ad <> GSM7990107_metastatic_lymph_node_S11.h5ad on 10 genes (8 threads)\n",
      "[==================================================] 100.00%\n",
      "[2024-07-10T14:36:17,182] [main] INFO : GSM7990106_metastatic_lymph_node_S9.h5ad<>GSM7990107_metastatic_lymph_node_S11.h5ad\t62\t79\t2d-affine: (0.9952724816903963, 0.09712202216716756, -1456.2187886562526, -0.09712202216716756, 0.9952724816903963, 2039.7962129496368)\n",
      "[2024-07-10T14:36:17,252] [main] INFO : Aligning GSM7990106_metastatic_lymph_node_S9.h5ad <> GSM7990108_metastatic_lymph_node_S17.h5ad on 10 genes (8 threads)\n",
      "[==================================================] 100.00%\n",
      "[2024-07-10T14:38:29,951] [main] INFO : GSM7990106_metastatic_lymph_node_S9.h5ad<>GSM7990108_metastatic_lymph_node_S17.h5ad\t0\t33\t2d-affine: (1.0, 0.0, -0.0, -0.0, 1.0, 0.0)\n",
      "[2024-07-10T14:38:29,960] [main] INFO : Aligning GSM7990107_metastatic_lymph_node_S11.h5ad <> GSM7990108_metastatic_lymph_node_S17.h5ad on 10 genes (8 threads)\n",
      "[==================================================] 100.00%\n",
      "[2024-07-10T14:41:44,554] [main] INFO : GSM7990107_metastatic_lymph_node_S11.h5ad<>GSM7990108_metastatic_lymph_node_S17.h5ad\t0\t24\t2d-affine: (1.0, 0.0, -0.0, -0.0, 1.0, 0.0)\n",
      "[2024-07-10T14:41:44,562] [main] INFO : Aligning GSM7990107_metastatic_lymph_node_S11.h5ad <> GSM7990109_metastatic_lymph_node_S18.h5ad on 10 genes (8 threads)\n",
      "[==================================================] 100.00%\n",
      "[2024-07-10T14:45:45,631] [main] INFO : GSM7990107_metastatic_lymph_node_S11.h5ad<>GSM7990109_metastatic_lymph_node_S18.h5ad\t0\t45\t2d-affine: (1.0, 0.0, -0.0, -0.0, 1.0, 0.0)\n",
      "[2024-07-10T14:45:45,639] [main] INFO : Aligning GSM7990108_metastatic_lymph_node_S17.h5ad <> GSM7990109_metastatic_lymph_node_S18.h5ad on 10 genes (8 threads)\n",
      "[==================================================] 100.00%\n",
      "[2024-07-10T14:48:12,936] [main] INFO : GSM7990108_metastatic_lymph_node_S17.h5ad<>GSM7990109_metastatic_lymph_node_S18.h5ad\t137\t145\t2d-affine: (0.9607409046342783, 0.27744713760013545, -2310.92376935421, -0.27744713760013545, 0.9607409046342783, 2221.469175994038)\n",
      "[2024-07-10T14:48:13,012] [main] INFO : Aligning GSM7990108_metastatic_lymph_node_S17.h5ad <> GSM7990110_metastatic_lymph_node_S19.h5ad on 10 genes (8 threads)\n",
      "[==================================================] 100.00%\n",
      "[2024-07-10T14:49:27,211] [main] INFO : GSM7990108_metastatic_lymph_node_S17.h5ad<>GSM7990110_metastatic_lymph_node_S19.h5ad\t34\t39\t2d-affine: (0.9958199590254463, -0.09133788483733442, 522.5603581730273, 0.09133788483733442, 0.9958199590254463, -1061.1790299058666)\n",
      "[2024-07-10T14:49:27,291] [main] INFO : Aligning GSM7990109_metastatic_lymph_node_S18.h5ad <> GSM7990110_metastatic_lymph_node_S19.h5ad on 10 genes (8 threads)\n",
      "[==================================================] 100.00%\n",
      "[2024-07-10T14:50:57,120] [main] INFO : GSM7990109_metastatic_lymph_node_S18.h5ad<>GSM7990110_metastatic_lymph_node_S19.h5ad\t108\t113\t2d-affine: (0.9262218815285065, -0.3769788139641179, 3743.4727810225504, 0.3769788139641179, 0.9262218815285065, -2407.571072391851)\n",
      "[2024-07-10T14:50:57,193] [main] INFO : Aligning GSM7990109_metastatic_lymph_node_S18.h5ad <> GSM7990111_metastatic_lymph_node_S23.h5ad on 10 genes (8 threads)\n",
      "[==================================================] 100.00%\n",
      "[2024-07-10T14:53:38,693] [main] INFO : GSM7990109_metastatic_lymph_node_S18.h5ad<>GSM7990111_metastatic_lymph_node_S23.h5ad\t42\t53\t2d-affine: (0.9858778872973238, -0.16746579154611071, 1173.5925375724294, 0.16746579154611071, 0.9858778872973238, -2301.342369917686)\n",
      "[2024-07-10T14:53:38,774] [main] INFO : Aligning GSM7990110_metastatic_lymph_node_S19.h5ad <> GSM7990111_metastatic_lymph_node_S23.h5ad on 10 genes (8 threads)\n",
      "[==================================================] 100.00%\n",
      "[2024-07-10T14:56:41,530] [main] INFO : GSM7990110_metastatic_lymph_node_S19.h5ad<>GSM7990111_metastatic_lymph_node_S23.h5ad\t46\t61\t2d-affine: (0.9811815567510013, 0.19308742240674734, -2139.254255308742, -0.19308742240674734, 0.9811815567510013, 863.1063932368002)\n",
      "[2024-07-10T14:56:41,610] [main] INFO : Aligning GSM7990110_metastatic_lymph_node_S19.h5ad <> GSM7990112_metastatic_lymph_node_S24.h5ad on 10 genes (8 threads)\n",
      "[==================================================] 100.00%\n",
      "[2024-07-10T14:59:38,475] [main] INFO : GSM7990110_metastatic_lymph_node_S19.h5ad<>GSM7990112_metastatic_lymph_node_S24.h5ad\t0\t36\t2d-affine: (1.0, 0.0, -0.0, -0.0, 1.0, 0.0)\n",
      "[2024-07-10T14:59:38,483] [main] INFO : Aligning GSM7990111_metastatic_lymph_node_S23.h5ad <> GSM7990112_metastatic_lymph_node_S24.h5ad on 10 genes (8 threads)\n",
      "[==================================================] 100.00%\n",
      "[2024-07-10T15:02:36,860] [main] INFO : GSM7990111_metastatic_lymph_node_S23.h5ad<>GSM7990112_metastatic_lymph_node_S24.h5ad\t221\t248\t2d-affine: (0.9959185686449431, -0.09025632735829552, 1115.3522506772324, 0.09025632735829552, 0.9959185686449431, -114.7405740957069)\n",
      "[2024-07-10T15:02:36,937] [main] INFO : Aligning GSM7990111_metastatic_lymph_node_S23.h5ad <> GSM7990113_metastatic_lymph_node_S25.h5ad on 10 genes (8 threads)\n",
      "[==================================================] 100.00%\n",
      "[2024-07-10T15:05:19,492] [main] INFO : GSM7990111_metastatic_lymph_node_S23.h5ad<>GSM7990113_metastatic_lymph_node_S25.h5ad\t42\t58\t2d-affine: (0.9998410207923577, 0.017830679765388668, 1227.941919878382, -0.017830679765388668, 0.9998410207923577, 662.2541125682171)\n",
      "[2024-07-10T15:05:19,576] [main] INFO : Aligning GSM7990112_metastatic_lymph_node_S24.h5ad <> GSM7990113_metastatic_lymph_node_S25.h5ad on 10 genes (8 threads)\n",
      "[==================================================] 100.00%\n",
      "[2024-07-10T15:07:39,941] [main] INFO : GSM7990112_metastatic_lymph_node_S24.h5ad<>GSM7990113_metastatic_lymph_node_S25.h5ad\t32\t40\t2d-affine: (0.9933818920387487, 0.11485824554430456, 68.53320746606468, -0.11485824554430456, 0.9933818920387487, 794.6933405671357)\n",
      "[2024-07-10T15:07:40,020] [main] INFO : Aligning GSM7990112_metastatic_lymph_node_S24.h5ad <> GSM7990114_metastatic_lymph_node_S26.h5ad on 10 genes (8 threads)\n",
      "[==================================================] 100.00%\n",
      "[2024-07-10T15:11:27,819] [main] INFO : GSM7990112_metastatic_lymph_node_S24.h5ad<>GSM7990114_metastatic_lymph_node_S26.h5ad\t97\t116\t2d-affine: (0.9920782146000194, -0.12562171832942665, 600.9141650537124, 0.12562171832942665, 0.9920782146000194, -1056.0747861809782)\n",
      "[2024-07-10T15:11:27,906] [main] INFO : Aligning GSM7990113_metastatic_lymph_node_S25.h5ad <> GSM7990114_metastatic_lymph_node_S26.h5ad on 10 genes (8 threads)\n",
      "[==================================================] 100.00%\n",
      "[2024-07-10T15:16:53,700] [main] INFO : GSM7990113_metastatic_lymph_node_S25.h5ad<>GSM7990114_metastatic_lymph_node_S26.h5ad\t82\t95\t2d-affine: (0.9685894328604904, -0.24866545910317725, 762.2639732523688, 0.24866545910317725, 0.9685894328604904, -1890.8900283911096)\n",
      "[2024-07-10T15:16:53,780] [main] INFO : Aligning GSM7990113_metastatic_lymph_node_S25.h5ad <> GSM7990115_metastatic_lymph_node_S28.h5ad on 10 genes (8 threads)\n",
      "[==================================================] 100.00%\n",
      "[2024-07-10T15:21:24,936] [main] INFO : GSM7990113_metastatic_lymph_node_S25.h5ad<>GSM7990115_metastatic_lymph_node_S28.h5ad\t0\t24\t2d-affine: (1.0, 0.0, -0.0, -0.0, 1.0, 0.0)\n",
      "[2024-07-10T15:21:24,943] [main] INFO : Aligning GSM7990114_metastatic_lymph_node_S26.h5ad <> GSM7990115_metastatic_lymph_node_S28.h5ad on 10 genes (8 threads)\n",
      "[==================================================] 100.00%\n",
      "[2024-07-10T15:24:51,126] [main] INFO : GSM7990114_metastatic_lymph_node_S26.h5ad<>GSM7990115_metastatic_lymph_node_S28.h5ad\t87\t156\t2d-affine: (0.9942731952398499, 0.10686820494206559, -1258.0826121525758, -0.10686820494206559, 0.9942731952398499, 2272.980779266914)\n",
      "[2024-07-10T15:24:51,203] [main] INFO : Aligning GSM7990114_metastatic_lymph_node_S26.h5ad <> GSM7990116_metastatic_lymph_node_S33.h5ad on 10 genes (8 threads)\n",
      "[==================================================] 100.00%\n",
      "[2024-07-10T15:27:54,805] [main] INFO : GSM7990114_metastatic_lymph_node_S26.h5ad<>GSM7990116_metastatic_lymph_node_S33.h5ad\t0\t29\t2d-affine: (1.0, 0.0, -0.0, -0.0, 1.0, 0.0)\n",
      "[2024-07-10T15:27:54,812] [main] INFO : Aligning GSM7990115_metastatic_lymph_node_S28.h5ad <> GSM7990116_metastatic_lymph_node_S33.h5ad on 10 genes (8 threads)\n",
      "[==================================================] 100.00%\n",
      "[2024-07-10T15:32:20,008] [main] INFO : GSM7990115_metastatic_lymph_node_S28.h5ad<>GSM7990116_metastatic_lymph_node_S33.h5ad\t34\t52\t2d-affine: (0.9956717336071964, -0.0929397594985078, 3035.2188108911737, 0.0929397594985078, 0.9956717336071964, -1058.149978602589)\n",
      "[2024-07-10T15:32:20,087] [main] INFO : Aligning GSM7990115_metastatic_lymph_node_S28.h5ad <> GSM7990117_metastatic_lymph_node_S34.h5ad on 10 genes (8 threads)\n",
      "[==================================================] 100.00%\n",
      "[2024-07-10T15:36:47,262] [main] INFO : GSM7990115_metastatic_lymph_node_S28.h5ad<>GSM7990117_metastatic_lymph_node_S34.h5ad\t0\t23\t2d-affine: (1.0, 0.0, -0.0, -0.0, 1.0, 0.0)\n",
      "[2024-07-10T15:36:47,270] [main] INFO : Aligning GSM7990116_metastatic_lymph_node_S33.h5ad <> GSM7990117_metastatic_lymph_node_S34.h5ad on 10 genes (8 threads)\n",
      "[==================================================] 100.00%\n",
      "[2024-07-10T15:39:28,766] [main] INFO : GSM7990116_metastatic_lymph_node_S33.h5ad<>GSM7990117_metastatic_lymph_node_S34.h5ad\t164\t173\t2d-affine: (0.9892866925000643, 0.14598575287432491, -3046.4284723873357, -0.14598575287432491, 0.9892866925000643, 494.21239187257635)\n",
      "[2024-07-10T15:39:28,845] [main] INFO : Aligning GSM7990116_metastatic_lymph_node_S33.h5ad <> GSM7990118_metastatic_lymph_node_S36.h5ad on 10 genes (8 threads)\n",
      "[==================================================] 100.00%\n",
      "[2024-07-10T15:41:36,572] [main] INFO : GSM7990116_metastatic_lymph_node_S33.h5ad<>GSM7990118_metastatic_lymph_node_S36.h5ad\t85\t90\t2d-affine: (0.9994903079899123, 0.03192372525615027, -1154.0909631181185, -0.03192372525615027, 0.9994903079899123, -1385.2317375479886)\n",
      "[2024-07-10T15:41:36,649] [main] INFO : Aligning GSM7990117_metastatic_lymph_node_S34.h5ad <> GSM7990118_metastatic_lymph_node_S36.h5ad on 10 genes (8 threads)\n",
      "[==================================================] 100.00%\n",
      "[2024-07-10T15:45:03,624] [main] INFO : GSM7990117_metastatic_lymph_node_S34.h5ad<>GSM7990118_metastatic_lymph_node_S36.h5ad\t200\t206\t2d-affine: (0.992585674195464, -0.12154702539320571, 2198.3001230213154, 0.12154702539320571, 0.992585674195464, -1575.540214502589)\n"
     ]
    }
   ],
   "source": [
    "st.align_pairs(container=container_path,\n",
    "               max_epsilon=0,\n",
    "               genes = hvg_genes,\n",
    "               range = 2,\n",
    "               scale = 0.03,\n",
    "               num_threads = 8,\n",
    "               overwrite=True)"
   ]
  },
  {
   "cell_type": "markdown",
   "metadata": {},
   "source": [
    "**Importantly**, if you try to run pairwise alignment more than once, you need to specify the argument `overwrite=True` when calling `st.align_pairs`.\n",
    "\n",
    "Otherwise, `STIM` assumes that pairwise alignment was performed and will exit."
   ]
  },
  {
   "cell_type": "markdown",
   "metadata": {},
   "source": [
    "### Visualization of results\n",
    "\n",
    "It is good practice to manually assess the results of pairwise alignment before proceeding or using these data for analysis, as the set of parameters used for registration might have not been suitable for the data at hand. Some reasons leading to poor alignment might be:\n",
    "\n",
    "- Poor selection of the subset of genes used for alignment\n",
    "- Scale (or render factor) parameter too large or too small\n",
    "- Poor selection of alignment error (`--maxEpsilon`) parameter\n",
    "- Data is too noisy and might need some filtering (e.g., with `--ffMedian` or `--ffSingleSpot`)\n",
    "\n",
    "STIM provides GUI-based tools to interactively assess the result from pairwise alignment:"
   ]
  },
  {
   "cell_type": "code",
   "execution_count": null,
   "metadata": {},
   "outputs": [],
   "source": [
    "st.align_pairs_view(container=container_path,\n",
    "                    datasets=[s[2:] for s in sections],\n",
    "                    gene=hvg_genes[0])"
   ]
  },
  {
   "cell_type": "markdown",
   "metadata": {},
   "source": [
    "Alternatively, you can use an interactive pairwise alignment tool to find suitable parameters, iteratively"
   ]
  },
  {
   "cell_type": "code",
   "execution_count": null,
   "metadata": {},
   "outputs": [],
   "source": [
    "st.align_interactive(container=container_path,\n",
    "                     section_a=sections[0],\n",
    "                     section_b=sections[1])"
   ]
  },
  {
   "cell_type": "markdown",
   "metadata": {},
   "source": [
    "To run the interactive alignment via `st.align_interactive` or `st.explorer`,\n",
    "make sure you are running this notebook in a computer with a graphical environment, or\n",
    "that you are doing redirection of the window server (e.g., X11 redirection via `ssh -X ...`).\n",
    "\n",
    "You can learn more about this [here](https://goteleport.com/blog/x11-forwarding/)."
   ]
  },
  {
   "cell_type": "markdown",
   "metadata": {},
   "source": [
    "### Global alignment\n",
    "\n",
    "Once you are satisfied with the results from the pairwise alignment of pairs of sections, you can proceed with the global alignment. \n",
    "\n",
    "This last step optimizes a global model taking into account all pairs of keypoints. \n",
    "\n",
    "This reduces error propagation across sections, which might lead to very large distortions in the reconstruction."
   ]
  },
  {
   "cell_type": "code",
   "execution_count": null,
   "metadata": {},
   "outputs": [],
   "source": [
    "st.align_global(container=container_path,\n",
    "                skip_icp=True)"
   ]
  },
  {
   "cell_type": "markdown",
   "metadata": {},
   "source": [
    "### Visualization of results\n",
    "\n",
    "Similarly as before, it is good practice to visualize the results after the global alignment procedure. \n",
    "\n",
    "STIM can leverage `BigDataViewer` for 3D visualization of these data:"
   ]
  },
  {
   "cell_type": "code",
   "execution_count": null,
   "metadata": {},
   "outputs": [],
   "source": [
    "st.bdv_view3d(container=container_path,\n",
    "              genes=hvg_genes)"
   ]
  },
  {
   "cell_type": "markdown",
   "metadata": {},
   "source": [
    "To run `BigDataViewer`, similarly to above, make sure you are running this notebook in a \n",
    "computer with a graphical environment, or that you are doing redirection of the window server\n",
    "(e.g., X11 redirection via `ssh -X ...`)."
   ]
  },
  {
   "cell_type": "markdown",
   "metadata": {},
   "source": [
    "### Storing the 3D coordinates in `AnnData`\n",
    "\n",
    "Prior to analysing these objects with `scanpy` or other tools from the `scverse` ecosystem, you can apply the transformation model \n",
    "and store the transformed 3D coordinates as a new layer in the `AnnData` (or `N5`) objects."
   ]
  },
  {
   "cell_type": "code",
   "execution_count": 18,
   "metadata": {},
   "outputs": [
    {
     "name": "stderr",
     "output_type": "stream",
     "text": [
      "/home/dleonpe/miniconda3/envs/stim_benchmark/lib/python3.11/site-packages/stimwrap/_stimwrap.py:330: FutureWarning: The N5Store is deprecated and will be removed in a Zarr-Python version 3, see https://github.com/zarr-developers/zarr-python/issues/1274 for more information.\n",
      "  self.container = zarr.N5Store(self.path)\n"
     ]
    }
   ],
   "source": [
    "# load N5 container with stimwrap\n",
    "container = st.Container(container_path)"
   ]
  },
  {
   "cell_type": "code",
   "execution_count": 19,
   "metadata": {},
   "outputs": [],
   "source": [
    "# iterate over datasets and apply the computed transformation\n",
    "for z_axis, dataset_name in zip(sections_numbers, container.get_dataset_names()):\n",
    "    with container.get_dataset(dataset_name, mode=\"r+\") as dataset:\n",
    "        dataset.apply_save_transform(transformation=\"model_sift\",\n",
    "                                     locations='spatial',\n",
    "                                     destination='spatial_transform_sift',\n",
    "                                     z_coord=z_axis)"
   ]
  },
  {
   "cell_type": "markdown",
   "metadata": {},
   "source": [
    "### Demo: interoperability with `scanpy`\n",
    "\n",
    "Here, we showcase the interoperability of STIM (via `AnnData`-backed N5) by plotting genes and running some data processing with `scanpy`.\n",
    "\n",
    "First of all, you can create a single `AnnData` object that can be loaded at once with `scanpy` (all cells in the same file)."
   ]
  },
  {
   "cell_type": "code",
   "execution_count": 20,
   "metadata": {},
   "outputs": [],
   "source": [
    "import scanpy as sc"
   ]
  },
  {
   "cell_type": "code",
   "execution_count": 23,
   "metadata": {},
   "outputs": [],
   "source": [
    "import anndata as ad\n",
    "\n",
    "adata_concatenated = ad.concat([ad.read_h5ad(adata_path) for adata_path in sections], join='inner', index_unique=\"_\")\n",
    "adata_concatenated.write_h5ad(\"./metastatic_lymph_node_aligned.h5ad\")"
   ]
  },
  {
   "cell_type": "markdown",
   "metadata": {},
   "source": [
    "##### Note\n",
    "\n",
    "If you get errors in the cell above because of `__DATA_TYPES__` or because of `column-order`, run the following command:"
   ]
  },
  {
   "cell_type": "code",
   "execution_count": 22,
   "metadata": {},
   "outputs": [],
   "source": [
    "## run if necessary (comment out line below)\n",
    "# container.cleanup_container()"
   ]
  },
  {
   "cell_type": "markdown",
   "metadata": {},
   "source": [
    "#### Plotting gene expression"
   ]
  },
  {
   "cell_type": "markdown",
   "metadata": {},
   "source": [
    "We transpose the Z-axis coordinates for plotting with scanpy (from a different point of view)"
   ]
  },
  {
   "cell_type": "code",
   "execution_count": null,
   "metadata": {},
   "outputs": [],
   "source": [
    "adata_concatenated.obsm['spatial_transform_sift_plotting'] = adata_concatenated.obsm['spatial_transform_sift'][:, [2, 0, 1]]"
   ]
  },
  {
   "cell_type": "markdown",
   "metadata": {},
   "source": [
    "We use the `pl.embedding` function for faster plotting (also, axes are scaled to the same magnitude). One can alternatively use the `pl.spatial` function"
   ]
  },
  {
   "cell_type": "code",
   "execution_count": null,
   "metadata": {},
   "outputs": [],
   "source": [
    "sc.pl.embedding(adata_concatenated, color=['IGKC'], projection='3d', size=1, basis='spatial_transform_sift_plotting', cmap='Reds')"
   ]
  },
  {
   "cell_type": "markdown",
   "metadata": {},
   "source": [
    "#### Plotting normalized gene expression"
   ]
  },
  {
   "cell_type": "markdown",
   "metadata": {},
   "source": [
    "In the plot above, raw counts are shown. As different sections had different sequencing depth, the intensities are not fully comparable. \n",
    "\n",
    "For improved visualization (and downstream analysis), we can normalize the values across sections. This follows the typical scanpy workflow."
   ]
  },
  {
   "cell_type": "code",
   "execution_count": null,
   "metadata": {},
   "outputs": [],
   "source": [
    "# Filter and normalize\n",
    "sc.pp.calculate_qc_metrics(adata_concatenated, inplace=True)\n",
    "sc.pp.filter_cells(adata_concatenated, min_counts=250)\n",
    "sc.pp.filter_cells(adata_concatenated, max_counts=10000)\n",
    "sc.pp.normalize_total(adata_concatenated, inplace=True)\n",
    "sc.pp.log1p(adata_concatenated)"
   ]
  },
  {
   "cell_type": "markdown",
   "metadata": {},
   "source": [
    "Now we can plot again, which will show depth and log-normalized counts."
   ]
  },
  {
   "cell_type": "code",
   "execution_count": null,
   "metadata": {},
   "outputs": [],
   "source": [
    "sc.pl.embedding(adata_concatenated, color=['IGKC'], projection='3d', size=1, basis='spatial_transform_sift_plotting', cmap='Reds')"
   ]
  },
  {
   "cell_type": "markdown",
   "metadata": {},
   "source": [
    "From here we can proceed with downstream analysis, like cell type clustering, differential expression, discovery of spatial features..."
   ]
  }
 ],
 "metadata": {
  "kernelspec": {
   "display_name": "stim_benchmark",
   "language": "python",
   "name": "python3"
  },
  "language_info": {
   "codemirror_mode": {
    "name": "ipython",
    "version": 3
   },
   "file_extension": ".py",
   "mimetype": "text/x-python",
   "name": "python",
   "nbconvert_exporter": "python",
   "pygments_lexer": "ipython3",
   "version": "3.11.9"
  },
  "orig_nbformat": 4
 },
 "nbformat": 4,
 "nbformat_minor": 2
}
