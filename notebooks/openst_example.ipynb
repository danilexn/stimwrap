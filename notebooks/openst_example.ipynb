{
 "cells": [
  {
   "cell_type": "markdown",
   "metadata": {},
   "source": [
    "## Aligning Open-ST metastatic lymph node\n",
    "\n",
    "In this notebook, we will illustrate how to perform the alignment of 19 serial sections from a [human metastatic lymph node profiled with Open-ST](https://doi.org/10.1016/j.cell.2024.05.055).\n",
    "\n",
    "### Dataset description\n",
    "We profiled patient-matched samples from human head and neck squamous cell carcinoma (HNSCC), due to the interesting transcriptional diversity and spatial organization. For the human metastatic lymph node, we applied Open-ST to serial sections spanning 350 μm. We constructed a 3D virtual tissue block with over a million cells and hundreds of millions of transcripts embedded in the H&E stainings. "
   ]
  },
  {
   "cell_type": "markdown",
   "metadata": {},
   "source": [
    "### Prerequisites\n",
    "\n",
    "First of all, you must have a Python environment with [ipykernel](https://ipython.readthedocs.io/en/stable/install/kernel_install.html) for running this notebook, or [Jupyter](https://jupyter.org/).\n",
    "\n",
    "Alternatively, you can run this notebook in [Google Colab]()."
   ]
  },
  {
   "cell_type": "markdown",
   "metadata": {},
   "source": [
    "### Installing dependencies\n",
    "\n",
    "We will install STIM (both the Java-based components, and the Python bindings)"
   ]
  },
  {
   "cell_type": "code",
   "execution_count": null,
   "metadata": {},
   "outputs": [],
   "source": [
    "!conda install -c conda-forge stim\n",
    "!pip install stimwrap"
   ]
  },
  {
   "cell_type": "markdown",
   "metadata": {},
   "source": [
    "### Downloading the data\n",
    "\n",
    "We will download the `AnnData` objects for each of the 19 sections. \n",
    "\n",
    "The spatial coordinates in these objects are the centroids of segmented cells (nuclei detected from the H&E stainings, see the paper for more details).\n",
    "\n",
    "These coordinates are unaligned in these individual h5 objects.\n",
    "\n",
    "We install a tool to download data from GEO, and setup some utils classes. \n",
    "\n",
    "You can do this with any other tool; below is very simple code that gets the job done."
   ]
  },
  {
   "cell_type": "code",
   "execution_count": null,
   "metadata": {},
   "outputs": [],
   "source": [
    "!pip install GEOparse"
   ]
  },
  {
   "cell_type": "code",
   "execution_count": 57,
   "metadata": {},
   "outputs": [],
   "source": [
    "from tqdm import tqdm\n",
    "import os\n",
    "import urllib.request\n",
    "import gzip\n",
    "import shutil\n",
    "\n",
    "class TqdmUpTo(tqdm):\n",
    "    def update_to(self, b=1, bsize=1, tsize=None):\n",
    "        if tsize is not None:\n",
    "            self.total = tsize\n",
    "        self.update(b * bsize - self.n)\n",
    "\n",
    "def download_ftp(url: str, basepath: str = './'):\n",
    "    basename = url.split('/')[-1]\n",
    "    cached_file = os.path.join(basepath, basename)\n",
    "    extract_name = \".\".join(cached_file.split(\".\")[:-1])\n",
    "\n",
    "    if not os.path.exists(cached_file) and not os.path.exists(extract_name):\n",
    "        with TqdmUpTo(unit = 'B', unit_scale = True, unit_divisor = 1024, miniters = 1, desc = cached_file) as t:\n",
    "            urllib.request.urlretrieve(\"http://\" + \"/\".join(url.split(\"/\")[2:]), cached_file, reporthook = t.update_to)\n",
    "    \n",
    "    print(f\"Extracting {cached_file} into {extract_name}\")\n",
    "    with gzip.open(cached_file, 'rb') as f_in:\n",
    "        with open(extract_name, 'wb') as f_out:\n",
    "            shutil.copyfileobj(f_in, f_out)\n",
    "\n",
    "    return extract_name"
   ]
  },
  {
   "cell_type": "markdown",
   "metadata": {},
   "source": [
    "Then, we download the data from GEO into the current folder"
   ]
  },
  {
   "cell_type": "code",
   "execution_count": 10,
   "metadata": {},
   "outputs": [],
   "source": [
    "import GEOparse\n",
    "\n",
    "gse = GEOparse.get_GEO(geo=\"GSE251926\", destdir=\"./\", how='brief', silent=True)"
   ]
  },
  {
   "cell_type": "code",
   "execution_count": 58,
   "metadata": {},
   "outputs": [
    {
     "name": "stdout",
     "output_type": "stream",
     "text": [
      "Downloading GSM7990100 from ftp://ftp.ncbi.nlm.nih.gov/geo/samples/GSM7990nnn/GSM7990100/suppl/GSM7990100_metastatic_lymph_node_S2.h5ad.gz\n",
      "Downloading GSM7990101 from ftp://ftp.ncbi.nlm.nih.gov/geo/samples/GSM7990nnn/GSM7990101/suppl/GSM7990101_metastatic_lymph_node_S3.h5ad.gz\n"
     ]
    },
    {
     "name": "stderr",
     "output_type": "stream",
     "text": [
      "./GSM7990101_metastatic_lymph_node_S3.h5ad.gz: 611MB [00:32, 19.7MB/s]                                \n"
     ]
    },
    {
     "name": "stdout",
     "output_type": "stream",
     "text": [
      "Downloading GSM7990102 from ftp://ftp.ncbi.nlm.nih.gov/geo/samples/GSM7990nnn/GSM7990102/suppl/GSM7990102_metastatic_lymph_node_S4.h5ad.gz\n"
     ]
    },
    {
     "name": "stderr",
     "output_type": "stream",
     "text": [
      "./GSM7990102_metastatic_lymph_node_S4.h5ad.gz: 820MB [00:35, 24.4MB/s]                               \n"
     ]
    },
    {
     "name": "stdout",
     "output_type": "stream",
     "text": [
      "Downloading GSM7990103 from ftp://ftp.ncbi.nlm.nih.gov/geo/samples/GSM7990nnn/GSM7990103/suppl/GSM7990103_metastatic_lymph_node_S5.h5ad.gz\n"
     ]
    },
    {
     "name": "stderr",
     "output_type": "stream",
     "text": [
      "./GSM7990103_metastatic_lymph_node_S5.h5ad.gz: 479MB [00:30, 16.6MB/s]                               \n"
     ]
    },
    {
     "name": "stdout",
     "output_type": "stream",
     "text": [
      "Downloading GSM7990104 from ftp://ftp.ncbi.nlm.nih.gov/geo/samples/GSM7990nnn/GSM7990104/suppl/GSM7990104_metastatic_lymph_node_S6.h5ad.gz\n"
     ]
    },
    {
     "name": "stderr",
     "output_type": "stream",
     "text": [
      "./GSM7990104_metastatic_lymph_node_S6.h5ad.gz: 560MB [00:42, 13.7MB/s]                               \n"
     ]
    },
    {
     "name": "stdout",
     "output_type": "stream",
     "text": [
      "Downloading GSM7990105 from ftp://ftp.ncbi.nlm.nih.gov/geo/samples/GSM7990nnn/GSM7990105/suppl/GSM7990105_metastatic_lymph_node_S7.h5ad.gz\n"
     ]
    },
    {
     "name": "stderr",
     "output_type": "stream",
     "text": [
      "./GSM7990105_metastatic_lymph_node_S7.h5ad.gz: 512MB [00:30, 17.4MB/s]                               \n"
     ]
    },
    {
     "name": "stdout",
     "output_type": "stream",
     "text": [
      "Downloading GSM7990106 from ftp://ftp.ncbi.nlm.nih.gov/geo/samples/GSM7990nnn/GSM7990106/suppl/GSM7990106_metastatic_lymph_node_S9.h5ad.gz\n"
     ]
    },
    {
     "name": "stderr",
     "output_type": "stream",
     "text": [
      "./GSM7990106_metastatic_lymph_node_S9.h5ad.gz: 642MB [00:45, 14.7MB/s]                               \n"
     ]
    },
    {
     "name": "stdout",
     "output_type": "stream",
     "text": [
      "Downloading GSM7990107 from ftp://ftp.ncbi.nlm.nih.gov/geo/samples/GSM7990nnn/GSM7990107/suppl/GSM7990107_metastatic_lymph_node_S11.h5ad.gz\n"
     ]
    },
    {
     "name": "stderr",
     "output_type": "stream",
     "text": [
      "./GSM7990107_metastatic_lymph_node_S11.h5ad.gz: 669MB [00:37, 18.5MB/s]                                \n"
     ]
    },
    {
     "name": "stdout",
     "output_type": "stream",
     "text": [
      "Downloading GSM7990108 from ftp://ftp.ncbi.nlm.nih.gov/geo/samples/GSM7990nnn/GSM7990108/suppl/GSM7990108_metastatic_lymph_node_S17.h5ad.gz\n"
     ]
    },
    {
     "name": "stderr",
     "output_type": "stream",
     "text": [
      "./GSM7990108_metastatic_lymph_node_S17.h5ad.gz: 709MB [00:48, 15.5MB/s]                               \n"
     ]
    },
    {
     "name": "stdout",
     "output_type": "stream",
     "text": [
      "Downloading GSM7990109 from ftp://ftp.ncbi.nlm.nih.gov/geo/samples/GSM7990nnn/GSM7990109/suppl/GSM7990109_metastatic_lymph_node_S18.h5ad.gz\n"
     ]
    },
    {
     "name": "stderr",
     "output_type": "stream",
     "text": [
      "./GSM7990109_metastatic_lymph_node_S18.h5ad.gz: 650MB [00:32, 21.2MB/s]                               \n"
     ]
    },
    {
     "name": "stdout",
     "output_type": "stream",
     "text": [
      "Downloading GSM7990110 from ftp://ftp.ncbi.nlm.nih.gov/geo/samples/GSM7990nnn/GSM7990110/suppl/GSM7990110_metastatic_lymph_node_S19.h5ad.gz\n"
     ]
    },
    {
     "name": "stderr",
     "output_type": "stream",
     "text": [
      "./GSM7990110_metastatic_lymph_node_S19.h5ad.gz: 501MB [00:53, 9.74MB/s]                               \n"
     ]
    },
    {
     "name": "stdout",
     "output_type": "stream",
     "text": [
      "Downloading GSM7990111 from ftp://ftp.ncbi.nlm.nih.gov/geo/samples/GSM7990nnn/GSM7990111/suppl/GSM7990111_metastatic_lymph_node_S23.h5ad.gz\n"
     ]
    },
    {
     "name": "stderr",
     "output_type": "stream",
     "text": [
      "./GSM7990111_metastatic_lymph_node_S23.h5ad.gz: 737MB [00:44, 17.6MB/s]                                \n"
     ]
    },
    {
     "name": "stdout",
     "output_type": "stream",
     "text": [
      "Downloading GSM7990112 from ftp://ftp.ncbi.nlm.nih.gov/geo/samples/GSM7990nnn/GSM7990112/suppl/GSM7990112_metastatic_lymph_node_S24.h5ad.gz\n"
     ]
    },
    {
     "name": "stderr",
     "output_type": "stream",
     "text": [
      "./GSM7990112_metastatic_lymph_node_S24.h5ad.gz: 684MB [00:32, 22.4MB/s]                               \n"
     ]
    },
    {
     "name": "stdout",
     "output_type": "stream",
     "text": [
      "Downloading GSM7990113 from ftp://ftp.ncbi.nlm.nih.gov/geo/samples/GSM7990nnn/GSM7990113/suppl/GSM7990113_metastatic_lymph_node_S25.h5ad.gz\n"
     ]
    },
    {
     "name": "stderr",
     "output_type": "stream",
     "text": [
      "./GSM7990113_metastatic_lymph_node_S25.h5ad.gz: 609MB [00:26, 24.3MB/s]                               \n"
     ]
    },
    {
     "name": "stdout",
     "output_type": "stream",
     "text": [
      "Downloading GSM7990114 from ftp://ftp.ncbi.nlm.nih.gov/geo/samples/GSM7990nnn/GSM7990114/suppl/GSM7990114_metastatic_lymph_node_S26.h5ad.gz\n"
     ]
    },
    {
     "name": "stderr",
     "output_type": "stream",
     "text": [
      "./GSM7990114_metastatic_lymph_node_S26.h5ad.gz: 859MB [00:46, 19.5MB/s]                                \n"
     ]
    },
    {
     "name": "stdout",
     "output_type": "stream",
     "text": [
      "Downloading GSM7990115 from ftp://ftp.ncbi.nlm.nih.gov/geo/samples/GSM7990nnn/GSM7990115/suppl/GSM7990115_metastatic_lymph_node_S28.h5ad.gz\n"
     ]
    },
    {
     "name": "stderr",
     "output_type": "stream",
     "text": [
      "./GSM7990115_metastatic_lymph_node_S28.h5ad.gz: 629MB [00:34, 18.9MB/s]                               \n"
     ]
    },
    {
     "name": "stdout",
     "output_type": "stream",
     "text": [
      "Downloading GSM7990116 from ftp://ftp.ncbi.nlm.nih.gov/geo/samples/GSM7990nnn/GSM7990116/suppl/GSM7990116_metastatic_lymph_node_S33.h5ad.gz\n"
     ]
    },
    {
     "name": "stderr",
     "output_type": "stream",
     "text": [
      "./GSM7990116_metastatic_lymph_node_S33.h5ad.gz: 560MB [00:46, 12.6MB/s]                               \n"
     ]
    },
    {
     "name": "stdout",
     "output_type": "stream",
     "text": [
      "Downloading GSM7990117 from ftp://ftp.ncbi.nlm.nih.gov/geo/samples/GSM7990nnn/GSM7990117/suppl/GSM7990117_metastatic_lymph_node_S34.h5ad.gz\n"
     ]
    },
    {
     "name": "stderr",
     "output_type": "stream",
     "text": [
      "./GSM7990117_metastatic_lymph_node_S34.h5ad.gz: 720MB [00:37, 20.4MB/s]                               \n"
     ]
    },
    {
     "name": "stdout",
     "output_type": "stream",
     "text": [
      "Downloading GSM7990118 from ftp://ftp.ncbi.nlm.nih.gov/geo/samples/GSM7990nnn/GSM7990118/suppl/GSM7990118_metastatic_lymph_node_S36.h5ad.gz\n"
     ]
    },
    {
     "name": "stderr",
     "output_type": "stream",
     "text": [
      "./GSM7990118_metastatic_lymph_node_S36.h5ad.gz: 514MB [00:31, 16.9MB/s]                               \n"
     ]
    }
   ],
   "source": [
    "for gsm_name, gsm in gse.gsms.items():\n",
    "    if 'metastatic' in gsm.metadata['title'][0].lower():\n",
    "        _accession = gsm.metadata['geo_accession'][0]\n",
    "        _url = gsm.metadata['supplementary_file_1'][0]\n",
    "        print(f\"Downloading {_accession} from {_url}\")\n",
    "        download_ftp(url = _url)"
   ]
  },
  {
   "cell_type": "markdown",
   "metadata": {},
   "source": [
    "Downloading (and decompressing) the whole dataset (~56GB) takes ~20 minutes with a ~200Mbps internet connection. \n",
    "\n",
    "Alternatively, you can download the files outside of this notebook with another tool. Make sure that the file names follow:\n",
    "\n",
    "`GSM79901XX_metastatic_lymph_node_SYY.h5ad(.gz)`\n",
    "\n",
    "Where `XX` is a number from 00 to 18, and `YY` a number from 0 to 36 (Z-axis coordinate of the section, known from sectioning)"
   ]
  },
  {
   "cell_type": "markdown",
   "metadata": {},
   "source": [
    "### Importing `stimwrap`\n",
    "\n",
    "In general, `STIM` is a console-based tool.\n",
    "\n",
    "However, when running your analysis in the `Python` ecosystem (like here), you can transparently run `STIM` from `Python` by leveraging the wrapper `stimwrap`.\n",
    "\n",
    "`stimwrap` provides bindings for all commands, and additional tools for data preprocessing and conversion prior to downstream analysis."
   ]
  },
  {
   "cell_type": "code",
   "execution_count": null,
   "metadata": {},
   "outputs": [],
   "source": [
    "import stimwrap as st"
   ]
  },
  {
   "cell_type": "markdown",
   "metadata": {},
   "source": [
    "### Creating a N5 container from `AnnData` objects\n",
    "\n",
    "STIM requires that the individual section data is resaved into a single N5 container.\n",
    "\n",
    "This allows to have a single directory containing all data (spatial expression values), metadata (cell annotations), and the output from STIM registration (landmarks, transformation matrices).\n",
    "\n",
    "You can find more about the N5 standard here."
   ]
  },
  {
   "cell_type": "code",
   "execution_count": 80,
   "metadata": {},
   "outputs": [
    {
     "name": "stdout",
     "output_type": "stream",
     "text": [
      "Section ID: ./GSM7990100_metastatic_lymph_node_S2.h5ad; Z-axis: 2\n",
      "Section ID: ./GSM7990101_metastatic_lymph_node_S3.h5ad; Z-axis: 3\n",
      "Section ID: ./GSM7990102_metastatic_lymph_node_S4.h5ad; Z-axis: 4\n",
      "Section ID: ./GSM7990103_metastatic_lymph_node_S5.h5ad; Z-axis: 5\n",
      "Section ID: ./GSM7990104_metastatic_lymph_node_S6.h5ad; Z-axis: 6\n",
      "Section ID: ./GSM7990105_metastatic_lymph_node_S7.h5ad; Z-axis: 7\n",
      "Section ID: ./GSM7990106_metastatic_lymph_node_S9.h5ad; Z-axis: 9\n",
      "Section ID: ./GSM7990107_metastatic_lymph_node_S11.h5ad; Z-axis: 11\n",
      "Section ID: ./GSM7990108_metastatic_lymph_node_S17.h5ad; Z-axis: 17\n",
      "Section ID: ./GSM7990109_metastatic_lymph_node_S18.h5ad; Z-axis: 18\n",
      "Section ID: ./GSM7990110_metastatic_lymph_node_S19.h5ad; Z-axis: 19\n",
      "Section ID: ./GSM7990111_metastatic_lymph_node_S23.h5ad; Z-axis: 23\n",
      "Section ID: ./GSM7990112_metastatic_lymph_node_S24.h5ad; Z-axis: 24\n",
      "Section ID: ./GSM7990113_metastatic_lymph_node_S25.h5ad; Z-axis: 25\n",
      "Section ID: ./GSM7990114_metastatic_lymph_node_S26.h5ad; Z-axis: 26\n",
      "Section ID: ./GSM7990115_metastatic_lymph_node_S28.h5ad; Z-axis: 28\n",
      "Section ID: ./GSM7990116_metastatic_lymph_node_S33.h5ad; Z-axis: 33\n",
      "Section ID: ./GSM7990117_metastatic_lymph_node_S34.h5ad; Z-axis: 34\n",
      "Section ID: ./GSM7990118_metastatic_lymph_node_S36.h5ad; Z-axis: 36\n"
     ]
    }
   ],
   "source": [
    "import glob\n",
    "\n",
    "sections = glob.glob(\"./*.h5ad\")\n",
    "sections_numbers = [int(s.split(\".\")[-2].split(\"_\")[-1][1:]) for s in sections]\n",
    "sections_numbers, sections = zip(*sorted(zip(sections_numbers, sections)))\n",
    "\n",
    "print(*[f\"Section ID: {s}; Z-axis: {n}\" for s, n in zip(sections, sections_numbers)], sep=\"\\n\")"
   ]
  },
  {
   "cell_type": "markdown",
   "metadata": {},
   "source": [
    "With the code above, we have sorted the files according to their names, which contain the Z-axis offset (equal to section number).\n",
    "\n",
    "Now, we add the slices into a single N5 container:"
   ]
  },
  {
   "cell_type": "code",
   "execution_count": null,
   "metadata": {},
   "outputs": [],
   "source": [
    "container_path = \"./openst_metastatic_lymph_node.n5\"\n",
    "\n",
    "st.add_slices(container=container_path, input=sections)"
   ]
  },
  {
   "cell_type": "markdown",
   "metadata": {},
   "source": [
    "### Pairwise registration\n",
    "\n",
    "As indicated in its name, STIM will handle ST data as images. These are multi-channel images where the XY dimensions can be specified by a scaling factor (e.g., 1:1 to map 1 pixel to 1 ST unit), and the channels are genes.\n",
    "\n",
    "During pairwise registration, STIM will automatically find corresponding points between pairs of sections for a subset of genes, and keep those with _high quality/agreement_ across all genes for a pair of sections. This is required prior to assembling a global alignment model (when more than 2 sections are provided).\n",
    "\n",
    "A subset of genes is used to avoid registering with all genes (in sequencing-based ST, this can lead to ~30,000 channels). This might be too time-consuming, and also most genes do not have sufficient information to render images with spatial patterns that can be used for feature detection (sparsity problem). By default, STIM detects genes with highest variance as a proxy for genes that might show suitable spatial patterns. Otherwise, the user can specify a set of genes used to render images for pairwise alignment.\n",
    "\n",
    "In this example, we will show two options:\n",
    "\n",
    "- **A:** Aligning with top 30 genes (sorted by stdev by STIM)\n",
    "- **B:** Aligning with top 30 HVG genes detected by scanpy"
   ]
  },
  {
   "cell_type": "markdown",
   "metadata": {},
   "source": [
    "#### A. Aligning with top 30 genes (detected by STIM)"
   ]
  },
  {
   "cell_type": "code",
   "execution_count": null,
   "metadata": {},
   "outputs": [],
   "source": [
    "st.align_pairs(container=container_path,\n",
    "               num_genes = 10,\n",
    "               range = 2,\n",
    "               scale = 0.05)"
   ]
  },
  {
   "cell_type": "markdown",
   "metadata": {},
   "source": [
    "#### B. Aligning with top 30 HVG genes (detected by scanpy)"
   ]
  },
  {
   "cell_type": "markdown",
   "metadata": {},
   "source": [
    "This assumes that you have installed `scanpy`. You can do that by simply running\n",
    "```bash\n",
    "pip install scanpy\n",
    "```\n",
    "\n",
    "Then, you can use it to detect highly variable genes, following the typical workflow for single-cell/spatial analysis"
   ]
  },
  {
   "cell_type": "code",
   "execution_count": null,
   "metadata": {},
   "outputs": [],
   "source": [
    "import scanpy as sc\n",
    "import h5py\n",
    "\n",
    "# Compute common genes\n",
    "common_genes = set()\n",
    "for s in sections:\n",
    "    with h5py.File(s, 'r') as s_data:\n",
    "        common_genes.intersection(set(s_data['var/_index'][:].tolist()))\n",
    "\n",
    "# Load one of the sections; these data is already normalized\n",
    "# Warning: these files are relatively big, and might need some extra RAM\n",
    "adata = sc.read_h5ad(sections[0])\n",
    "\n",
    "# Subset to genes common across all sections\n",
    "adata = adata[:, adata.var_names.isin(common_genes)]\n",
    "\n",
    "# Detect and select top 30 highly variable genes (common across all sections)\n",
    "sc.pp.highly_variable_genes(adata, flavor=\"seurat\", n_top_genes=30)\n",
    "hvg_genes = adata.var_names[adata.var['highly_variable']].tolist()"
   ]
  },
  {
   "cell_type": "code",
   "execution_count": null,
   "metadata": {},
   "outputs": [],
   "source": [
    "st.align_pairs(container=container_path,\n",
    "               genes = hvg_genes,\n",
    "               range = 2,\n",
    "               scale = 0.05)"
   ]
  },
  {
   "cell_type": "markdown",
   "metadata": {},
   "source": [
    "**Importantly**, if you try to run pairwise alignment more than once, you need to specify the argument `overwrite=True` when calling `st.align_pairs`.\n",
    "\n",
    "Otherwise, `STIM` assumes that pairwise alignment was performed and will exit."
   ]
  },
  {
   "cell_type": "markdown",
   "metadata": {},
   "source": [
    "### Visualization of results\n",
    "\n",
    "It is good practice to manually assess the results of pairwise alignment before proceeding or using these data for analysis, as the set of parameters used for registration might have not been suitable for the data at hand. Some reasons leading to poor alignment might be:\n",
    "\n",
    "- Poor selection of the subset of genes used for alignment\n",
    "- Scale (or render factor) parameter too large or too small\n",
    "- Poor selection of alignment error (`--maxEpsilon`) parameter\n",
    "- Data is too noisy and might need some filtering (e.g., with `--ffMedian` or `--ffSingleSpot`)\n",
    "\n",
    "STIM provides GUI-based tools to interactively assess the result from pairwise alignment:"
   ]
  },
  {
   "cell_type": "code",
   "execution_count": null,
   "metadata": {},
   "outputs": [],
   "source": [
    "st.explorer(container=container_path,\n",
    "            datasets=sections)"
   ]
  },
  {
   "cell_type": "markdown",
   "metadata": {},
   "source": [
    "Alternatively, you can use an interactive pairwise alignment tool to find suitable parameters, iteratively"
   ]
  },
  {
   "cell_type": "code",
   "execution_count": null,
   "metadata": {},
   "outputs": [],
   "source": [
    "st.align_interactive(container=container_path,\n",
    "                     section_a=sections[0],\n",
    "                     section_b=sections[1])"
   ]
  },
  {
   "cell_type": "markdown",
   "metadata": {},
   "source": [
    "To run the interactive alignment via `st.align_interactive` or `st.explorer`,\n",
    "make sure you are running this notebook in a computer with a graphical environment, or\n",
    "that you are doing redirection of the window server (e.g., X11 redirection via `ssh -X ...`).\n",
    "\n",
    "You can learn more about this [here](https://goteleport.com/blog/x11-forwarding/)."
   ]
  },
  {
   "cell_type": "markdown",
   "metadata": {},
   "source": [
    "### Global alignment\n",
    "\n",
    "Once you are satisfied with the results from the pairwise alignment of pairs of sections, you can proceed with the global alignment. \n",
    "\n",
    "This last step optimizes a global model taking into account all pairs of keypoints. \n",
    "\n",
    "This reduces error propagation across sections, which might lead to very large distortions in the reconstruction."
   ]
  },
  {
   "cell_type": "code",
   "execution_count": null,
   "metadata": {},
   "outputs": [],
   "source": [
    "st.align_global(container=container_path,\n",
    "                skip_icp=True)"
   ]
  },
  {
   "cell_type": "markdown",
   "metadata": {},
   "source": [
    "### Visualization of results\n",
    "\n",
    "Similarly as before, it is good practice to visualize the results after the global alignment procedure. \n",
    "\n",
    "STIM can leverage `BigDataViewer` for 3D visualization of these data:"
   ]
  },
  {
   "cell_type": "code",
   "execution_count": null,
   "metadata": {},
   "outputs": [],
   "source": [
    "st.bdv_view3d(container=container_path,\n",
    "              genes=hvg_genes)"
   ]
  },
  {
   "cell_type": "markdown",
   "metadata": {},
   "source": [
    "To run `BigDataViewer`, similarly to above, make sure you are running this notebook in a \n",
    "computer with a graphical environment, or that you are doing redirection of the window server\n",
    "(e.g., X11 redirection via `ssh -X ...`)."
   ]
  },
  {
   "cell_type": "markdown",
   "metadata": {},
   "source": [
    "### Storing the 3D coordinates in `AnnData`\n",
    "\n",
    "Prior to analysing these objects with `scanpy` or other tools from the `scverse` ecosystem, you can apply the transformation model \n",
    "and store the transformed 3D coordinates as a new layer in the `AnnData` (or `N5`) objects."
   ]
  },
  {
   "cell_type": "code",
   "execution_count": null,
   "metadata": {},
   "outputs": [],
   "source": [
    "# load N5 container with stimwrap\n",
    "container = st.Container(container_path)"
   ]
  },
  {
   "cell_type": "code",
   "execution_count": null,
   "metadata": {},
   "outputs": [],
   "source": [
    "# iterate over datasets and apply the computed transformation\n",
    "for z_axis, dataset_name in zip(sections_numbers, container.get_dataset_names()):\n",
    "    with container.get_dataset(dataset_name, mode=\"r+\") as dataset:\n",
    "        dataset.apply_save_transform(transformation=\"model_sift\",\n",
    "                                     locations='spatial',\n",
    "                                     destination='spatial_transform_sift',\n",
    "                                     z_coord=z_axis)"
   ]
  },
  {
   "cell_type": "markdown",
   "metadata": {},
   "source": [
    "### Creating a single `AnnData` object for analysis"
   ]
  },
  {
   "cell_type": "code",
   "execution_count": null,
   "metadata": {},
   "outputs": [],
   "source": [
    "import anndata as ad\n",
    "\n",
    "adata_concatenated = ad.concat([ad.read_h5ad(adata_path) for adata_path in sections], join='inner', index_unique=\"_\")\n",
    "adata_concatenated.write_h5ad(\"./metastatic_lymph_node_aligned.h5ad\")"
   ]
  },
  {
   "cell_type": "markdown",
   "metadata": {},
   "source": [
    "### Demo: plotting genes with scanpy"
   ]
  },
  {
   "cell_type": "code",
   "execution_count": null,
   "metadata": {},
   "outputs": [],
   "source": []
  }
 ],
 "metadata": {
  "kernelspec": {
   "display_name": "stim_benchmark",
   "language": "python",
   "name": "python3"
  },
  "language_info": {
   "codemirror_mode": {
    "name": "ipython",
    "version": 3
   },
   "file_extension": ".py",
   "mimetype": "text/x-python",
   "name": "python",
   "nbconvert_exporter": "python",
   "pygments_lexer": "ipython3",
   "version": "3.11.9"
  },
  "orig_nbformat": 4
 },
 "nbformat": 4,
 "nbformat_minor": 2
}
